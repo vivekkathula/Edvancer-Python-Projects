{
  "nbformat": 4,
  "nbformat_minor": 0,
  "metadata": {
    "kernelspec": {
      "display_name": "Python 3",
      "language": "python",
      "name": "python3"
    },
    "colab": {
      "name": "Proj5_EdvPy_Code_A2_Colab.ipynb",
      "provenance": [],
      "collapsed_sections": []
    },
    "accelerator": "GPU"
  },
  "cells": [
    {
      "cell_type": "code",
      "metadata": {
        "id": "OCBYDAPnSJCP",
        "colab_type": "code",
        "colab": {}
      },
      "source": [
        "# Python ≥3.5 is required\n",
        "import sys\n",
        "assert sys.version_info >= (3, 5)\n",
        "\n",
        "# Common imports for data\n",
        "import numpy as np\n",
        "import pandas as pd\n",
        "import os\n",
        "\n",
        "# for metrics, preprocessing\n",
        "import sklearn\n",
        "\n",
        "\n",
        "# models\n",
        "from sklearn.ensemble import RandomForestClassifier\n",
        "from sklearn.ensemble import GradientBoostingClassifier\n",
        "from xgboost.sklearn import XGBClassifier\n",
        "from sklearn.model_selection import RandomizedSearchCV\n",
        "\n",
        "# to make this notebook's output stable across runs\n",
        "np.random.seed(42)\n",
        "\n",
        "# To plot \n",
        "%matplotlib inline\n",
        "import matplotlib as mpl\n",
        "import matplotlib.pyplot as plt\n"
      ],
      "execution_count": 2,
      "outputs": []
    },
    {
      "cell_type": "code",
      "metadata": {
        "id": "0A1EfXXcSJ_L",
        "colab_type": "code",
        "colab": {
          "base_uri": "https://localhost:8080/",
          "height": 139
        },
        "outputId": "f23cd19a-cefd-4c85-9cdc-8a34e9430c28"
      },
      "source": [
        "from google.colab import drive\n",
        "drive.mount(\"/content/gdrive\")\n",
        "#download the data\n",
        "os.chdir('/content/gdrive/My Drive/Data_Edv_P_P5/')\n",
        "os.listdir()"
      ],
      "execution_count": 3,
      "outputs": [
        {
          "output_type": "stream",
          "text": [
            "Go to this URL in a browser: https://accounts.google.com/o/oauth2/auth?client_id=947318989803-6bn6qk8qdgf4n4g3pfee6491hc0brc4i.apps.googleusercontent.com&redirect_uri=urn%3aietf%3awg%3aoauth%3a2.0%3aoob&scope=email%20https%3a%2f%2fwww.googleapis.com%2fauth%2fdocs.test%20https%3a%2f%2fwww.googleapis.com%2fauth%2fdrive%20https%3a%2f%2fwww.googleapis.com%2fauth%2fdrive.photos.readonly%20https%3a%2f%2fwww.googleapis.com%2fauth%2fpeopleapi.readonly&response_type=code\n",
            "\n",
            "Enter your authorization code:\n",
            "··········\n",
            "Mounted at /content/gdrive\n"
          ],
          "name": "stdout"
        },
        {
          "output_type": "execute_result",
          "data": {
            "text/plain": [
              "['Property_test_share.csv', 'Property_train.csv']"
            ]
          },
          "metadata": {
            "tags": []
          },
          "execution_count": 3
        }
      ]
    },
    {
      "cell_type": "code",
      "metadata": {
        "id": "D-kEnCXsSKJa",
        "colab_type": "code",
        "colab": {}
      },
      "source": [
        ""
      ],
      "execution_count": null,
      "outputs": []
    },
    {
      "cell_type": "code",
      "metadata": {
        "id": "oCAwZF6KSGgr",
        "colab_type": "code",
        "colab": {}
      },
      "source": [
        "import numpy as np\n",
        "import pandas as pd\n",
        "train=pd.read_csv(\"Property_train.csv\")\n",
        "test=pd.read_csv('Property_test_share.csv')"
      ],
      "execution_count": 4,
      "outputs": []
    },
    {
      "cell_type": "code",
      "metadata": {
        "id": "pANVFw2-SGgy",
        "colab_type": "code",
        "colab": {}
      },
      "source": [
        "train=pd.read_csv(\"Property_train.csv\", na_values=[\"missing\"])\n",
        "test=pd.read_csv('Property_test_share.csv',na_values=[\"missing\"])"
      ],
      "execution_count": 5,
      "outputs": []
    },
    {
      "cell_type": "code",
      "metadata": {
        "id": "BCTVUGNaSGg3",
        "colab_type": "code",
        "colab": {}
      },
      "source": [
        "train.columns\n",
        "df=train.copy()"
      ],
      "execution_count": 6,
      "outputs": []
    },
    {
      "cell_type": "code",
      "metadata": {
        "id": "Q5nV3uCpSGg8",
        "colab_type": "code",
        "colab": {
          "base_uri": "https://localhost:8080/",
          "height": 306
        },
        "outputId": "ec3eb8a5-5a2a-4b82-9465-6d8f05404012"
      },
      "source": [
        "abs(df.corr()[\"Junk\"]).sort_values(ascending=False)"
      ],
      "execution_count": 7,
      "outputs": [
        {
          "output_type": "execute_result",
          "data": {
            "text/plain": [
              "Junk                     1.000000\n",
              "PropertyAge              0.166533\n",
              "BuildYear                0.158773\n",
              "PriceIndex5              0.107274\n",
              "PriceIndex1              0.106897\n",
              "PriceIndex7              0.102728\n",
              "PriceIndex6              0.102215\n",
              "PriceIndex2              0.100668\n",
              "PriceIndex8              0.098974\n",
              "PriceIndex9              0.097962\n",
              "PriceIndex3              0.086481\n",
              "PriceIndex4              0.082716\n",
              "NormalisedPopulation     0.079284\n",
              "InsurancePremiumIndex    0.055588\n",
              "Zip                      0.005595\n",
              "ExpeditedListing         0.004631\n",
              "Name: Junk, dtype: float64"
            ]
          },
          "metadata": {
            "tags": []
          },
          "execution_count": 7
        }
      ]
    },
    {
      "cell_type": "code",
      "metadata": {
        "id": "Fc3zm55CSGhB",
        "colab_type": "code",
        "colab": {}
      },
      "source": [
        "price_cols=[\"PriceIndex1\",\"PriceIndex2\",\"PriceIndex3\",\"PriceIndex4\",\"PriceIndex5\",\n",
        "            \"PriceIndex6\",\"PriceIndex7\",\"PriceIndex8\",\"PriceIndex9\",\"NormalisedPopulation\",\n",
        "            \"InsurancePremiumIndex\",\"PropertyAge\",\"BuildYear\"]"
      ],
      "execution_count": 8,
      "outputs": []
    },
    {
      "cell_type": "code",
      "metadata": {
        "id": "SkL2W-IhSGhF",
        "colab_type": "code",
        "colab": {
          "base_uri": "https://localhost:8080/",
          "height": 71
        },
        "outputId": "b30dd6a7-67f7-4576-b74e-a1e6c675f3d6"
      },
      "source": [
        "from statsmodels.stats.outliers_influence import variance_inflation_factor\n",
        "\n",
        "def calc_vif(X):\n",
        "\n",
        "    # Calculating VIF\n",
        "    vif = pd.DataFrame()\n",
        "    vif[\"variables\"] = X.columns\n",
        "    vif[\"VIF\"] = [variance_inflation_factor(X.values, i) for i in range(X.shape[1])]\n",
        "\n",
        "    return(vif)"
      ],
      "execution_count": 9,
      "outputs": [
        {
          "output_type": "stream",
          "text": [
            "/usr/local/lib/python3.6/dist-packages/statsmodels/tools/_testing.py:19: FutureWarning: pandas.util.testing is deprecated. Use the functions in the public API at pandas.testing instead.\n",
            "  import pandas.util.testing as tm\n"
          ],
          "name": "stderr"
        }
      ]
    },
    {
      "cell_type": "code",
      "metadata": {
        "id": "erBSoU5PSGhJ",
        "colab_type": "code",
        "colab": {
          "base_uri": "https://localhost:8080/",
          "height": 142
        },
        "outputId": "1b98124a-1a68-400f-9c99-5be6f4d045e3"
      },
      "source": [
        "df_num=train[price_cols].copy()\n",
        "df_new=df_num[df_num[\"PriceIndex8\"].isnull()==df_num[\"PriceIndex9\"].isnull()]\n",
        "df_new=df_new.drop([\"PriceIndex6\",\"PriceIndex4\",\"PriceIndex8\",\"PriceIndex1\",\n",
        "                    \"PriceIndex7\",\"PriceIndex2\",\"BuildYear\",\"PriceIndex5\",\"PriceIndex3\",\n",
        "                    \"NormalisedPopulation\"],axis=1)\n",
        "calc_vif(df_new)"
      ],
      "execution_count": 10,
      "outputs": [
        {
          "output_type": "execute_result",
          "data": {
            "text/html": [
              "<div>\n",
              "<style scoped>\n",
              "    .dataframe tbody tr th:only-of-type {\n",
              "        vertical-align: middle;\n",
              "    }\n",
              "\n",
              "    .dataframe tbody tr th {\n",
              "        vertical-align: top;\n",
              "    }\n",
              "\n",
              "    .dataframe thead th {\n",
              "        text-align: right;\n",
              "    }\n",
              "</style>\n",
              "<table border=\"1\" class=\"dataframe\">\n",
              "  <thead>\n",
              "    <tr style=\"text-align: right;\">\n",
              "      <th></th>\n",
              "      <th>variables</th>\n",
              "      <th>VIF</th>\n",
              "    </tr>\n",
              "  </thead>\n",
              "  <tbody>\n",
              "    <tr>\n",
              "      <th>0</th>\n",
              "      <td>PriceIndex9</td>\n",
              "      <td>5.077907</td>\n",
              "    </tr>\n",
              "    <tr>\n",
              "      <th>1</th>\n",
              "      <td>InsurancePremiumIndex</td>\n",
              "      <td>5.603358</td>\n",
              "    </tr>\n",
              "    <tr>\n",
              "      <th>2</th>\n",
              "      <td>PropertyAge</td>\n",
              "      <td>5.363255</td>\n",
              "    </tr>\n",
              "  </tbody>\n",
              "</table>\n",
              "</div>"
            ],
            "text/plain": [
              "               variables       VIF\n",
              "0            PriceIndex9  5.077907\n",
              "1  InsurancePremiumIndex  5.603358\n",
              "2            PropertyAge  5.363255"
            ]
          },
          "metadata": {
            "tags": []
          },
          "execution_count": 10
        }
      ]
    },
    {
      "cell_type": "markdown",
      "metadata": {
        "id": "1ssDplckSGhP",
        "colab_type": "text"
      },
      "source": [
        "### Column Transformer"
      ]
    },
    {
      "cell_type": "code",
      "metadata": {
        "id": "itd7egE8SGhQ",
        "colab_type": "code",
        "colab": {}
      },
      "source": [
        "from sklearn.base import BaseEstimator, TransformerMixin\n",
        "\n",
        "ListDate_ix = 0\n",
        "\n",
        "class CombinedAttributesAdder(BaseEstimator, TransformerMixin):\n",
        "    def __init__(self, add_Adow_sin = True): # no *args or **kargs\n",
        "        self.add_Adow_sin = add_Adow_sin\n",
        "        \n",
        "    def fit(self, X, y=None):\n",
        "        return self # nothing else to do \n",
        "    \n",
        "    def transform(self, X):\n",
        "        Ldate = pd.to_datetime(X[:,ListDate_ix], format='%m/%d/%Y')\n",
        "        \n",
        "        L_day=Ldate.day\n",
        "        L_dofweek=Ldate.dayofweek\n",
        "        L_month=Ldate.month\n",
        "        \n",
        "        sin_L_day= np.sin(2 * np.pi * (L_day-L_day.min())/(L_day.max()-L_day.min()))\n",
        "        cos_L_day= np.sin(2 * np.pi * (L_day-L_day.min())/(L_day.max()-L_day.min()))\n",
        "        \n",
        "        sin_L_dofweek = np.sin(2 * np.pi * (L_dofweek-L_dofweek.min())/(L_dofweek.max()-L_dofweek.min()))\n",
        "        cos_L_dofweek = np.cos(2 * np.pi * (L_dofweek-L_dofweek.min())/(L_dofweek.max()-L_dofweek.min()))\n",
        "        \n",
        "        sin_L_month = np.sin(2 * np.pi * (L_month-L_month.min())/(L_month.max()-L_month.min()))\n",
        "        cos_L_month = np.cos(2 * np.pi * (L_month-L_month.min())/(L_month.max()-L_month.min()))\n",
        "        \n",
        "        return np.c_[sin_L_month,cos_L_month]\n",
        "\n",
        "attr_adder = CombinedAttributesAdder()"
      ],
      "execution_count": 11,
      "outputs": []
    },
    {
      "cell_type": "markdown",
      "metadata": {
        "id": "hG-Y0cdFSGhU",
        "colab_type": "text"
      },
      "source": [
        "### Date.Month "
      ]
    },
    {
      "cell_type": "code",
      "metadata": {
        "id": "xP41_4KCSGhV",
        "colab_type": "code",
        "colab": {
          "base_uri": "https://localhost:8080/",
          "height": 128
        },
        "outputId": "5bdaf175-7d32-4112-b410-c3ef35cad34f"
      },
      "source": [
        "# date cols\n",
        "# for second attempt i opened std scaler\n",
        "from sklearn.impute import SimpleImputer\n",
        "from sklearn.pipeline import Pipeline\n",
        "from sklearn.preprocessing import StandardScaler\n",
        "\n",
        "date_cols=[\"ListDate\"]\n",
        "df_train_dates=train[date_cols].copy()\n",
        "\n",
        "date_pipeline = Pipeline([            \n",
        "    ('imputer', SimpleImputer(strategy=\"most_frequent\")),\n",
        "    ('attribs_adder', CombinedAttributesAdder()),\n",
        "    ('std_scaler', StandardScaler()),\n",
        "])\n",
        "\n",
        "df_train_dates_tr = date_pipeline.fit_transform(df_train_dates)\n",
        "print(df_train_dates_tr.shape)\n",
        "calc_vif(pd.DataFrame(df_train_dates_tr))"
      ],
      "execution_count": 12,
      "outputs": [
        {
          "output_type": "stream",
          "text": [
            "(62035, 2)\n"
          ],
          "name": "stdout"
        },
        {
          "output_type": "execute_result",
          "data": {
            "text/html": [
              "<div>\n",
              "<style scoped>\n",
              "    .dataframe tbody tr th:only-of-type {\n",
              "        vertical-align: middle;\n",
              "    }\n",
              "\n",
              "    .dataframe tbody tr th {\n",
              "        vertical-align: top;\n",
              "    }\n",
              "\n",
              "    .dataframe thead th {\n",
              "        text-align: right;\n",
              "    }\n",
              "</style>\n",
              "<table border=\"1\" class=\"dataframe\">\n",
              "  <thead>\n",
              "    <tr style=\"text-align: right;\">\n",
              "      <th></th>\n",
              "      <th>variables</th>\n",
              "      <th>VIF</th>\n",
              "    </tr>\n",
              "  </thead>\n",
              "  <tbody>\n",
              "    <tr>\n",
              "      <th>0</th>\n",
              "      <td>0</td>\n",
              "      <td>1.000027</td>\n",
              "    </tr>\n",
              "    <tr>\n",
              "      <th>1</th>\n",
              "      <td>1</td>\n",
              "      <td>1.000027</td>\n",
              "    </tr>\n",
              "  </tbody>\n",
              "</table>\n",
              "</div>"
            ],
            "text/plain": [
              "   variables       VIF\n",
              "0          0  1.000027\n",
              "1          1  1.000027"
            ]
          },
          "metadata": {
            "tags": []
          },
          "execution_count": 12
        }
      ]
    },
    {
      "cell_type": "markdown",
      "metadata": {
        "id": "4yAscgOZSGhY",
        "colab_type": "text"
      },
      "source": [
        "### Num.pipeline"
      ]
    },
    {
      "cell_type": "code",
      "metadata": {
        "id": "BxUvgIYxSGhZ",
        "colab_type": "code",
        "colab": {
          "base_uri": "https://localhost:8080/",
          "height": 34
        },
        "outputId": "de465117-4b1b-4bc9-c723-48e6460d711f"
      },
      "source": [
        "# numcols\n",
        "from sklearn.impute import SimpleImputer\n",
        "from sklearn.pipeline import Pipeline\n",
        "from sklearn.preprocessing import StandardScaler\n",
        "\n",
        "num_cols=[\"PriceIndex9\",\"InsurancePremiumIndex\"]#,\"PropertyAge\"]\n",
        "df_train_num=train[num_cols].copy()\n",
        "\n",
        "num_pipeline = Pipeline([            \n",
        "    ('imputer', SimpleImputer(strategy=\"most_frequent\")),\n",
        "    ('std_scaler', StandardScaler()),\n",
        "])\n",
        "\n",
        "df_train_num_tr = num_pipeline.fit_transform(df_train_num)\n",
        "df_train_num_tr.shape"
      ],
      "execution_count": 13,
      "outputs": [
        {
          "output_type": "execute_result",
          "data": {
            "text/plain": [
              "(62035, 2)"
            ]
          },
          "metadata": {
            "tags": []
          },
          "execution_count": 13
        }
      ]
    },
    {
      "cell_type": "markdown",
      "metadata": {
        "id": "CSHXc7luSGhd",
        "colab_type": "text"
      },
      "source": [
        "## Binary pipeline"
      ]
    },
    {
      "cell_type": "markdown",
      "metadata": {
        "id": "S4awAbD8SGhe",
        "colab_type": "raw"
      },
      "source": [
        "# not using \n",
        "bin_cols=[\"Region\",\"ExpeditedListing\"]\n",
        "\n",
        "df_bincols=train[bin_cols].copy()\n",
        "\n",
        "from sklearn.preprocessing import OneHotEncoder\n",
        "from sklearn.impute import SimpleImputer\n",
        "impute=SimpleImputer(strategy=\"most_frequent\")\n",
        "\n",
        "binary_pipeline = Pipeline([\n",
        "    ('imputer', SimpleImputer(strategy=\"most_frequent\")),\n",
        "    (\"binary_cols\",OneHotEncoder(drop=\"first\")),\n",
        "])\n",
        "\n",
        "df_train_binary_tr=binary_pipeline.fit_transform(df_bincols)\n",
        "print(df_train_binary_tr.shape)"
      ]
    },
    {
      "cell_type": "code",
      "metadata": {
        "id": "fZpkmPF0SGhe",
        "colab_type": "code",
        "colab": {
          "base_uri": "https://localhost:8080/",
          "height": 153
        },
        "outputId": "3948089f-e1a5-45e9-d1bb-0cb1d66dd143"
      },
      "source": [
        "train.columns"
      ],
      "execution_count": 14,
      "outputs": [
        {
          "output_type": "execute_result",
          "data": {
            "text/plain": [
              "Index(['Junk', 'InteriorsStyle', 'PriceIndex8', 'ListDate', 'Material',\n",
              "       'PriceIndex9', 'Agency', 'AreaIncomeType', 'EnvRating', 'PriceIndex7',\n",
              "       'ExpeditedListing', 'PriceIndex4', 'PriceIndex1', 'PriceIndex6',\n",
              "       'PRIMEUNIT', 'Channel', 'Zip', 'InsurancePremiumIndex', 'PlotType',\n",
              "       'Architecture', 'PriceIndex3', 'Region', 'PriceIndex5', 'SubModel',\n",
              "       'Facade', 'State', 'NormalisedPopulation', 'BuildYear', 'RegionType',\n",
              "       'PropertyAge', 'PriceIndex2'],\n",
              "      dtype='object')"
            ]
          },
          "metadata": {
            "tags": []
          },
          "execution_count": 14
        }
      ]
    },
    {
      "cell_type": "markdown",
      "metadata": {
        "id": "1jriRCg0SGhi",
        "colab_type": "text"
      },
      "source": [
        "## Cat Pipeline"
      ]
    },
    {
      "cell_type": "code",
      "metadata": {
        "id": "jy7xn0fYSGhj",
        "colab_type": "code",
        "colab": {
          "base_uri": "https://localhost:8080/",
          "height": 51
        },
        "outputId": "f28454df-9e2b-4a2e-a6c5-e908913d59ea"
      },
      "source": [
        "cat_cols=['EnvRating','PRIMEUNIT','PropertyAge',\"Region\",\"ExpeditedListing\",'Facade','State',\"RegionType\",\n",
        "          \"Agency\",\"Channel\",\"Architecture\",\"PlotType\"]\n",
        "\n",
        "df_catcols=train[cat_cols].copy()\n",
        "\n",
        "from sklearn.preprocessing import OneHotEncoder\n",
        "from sklearn.impute import SimpleImputer\n",
        "impute=SimpleImputer(strategy=\"constant\")\n",
        "\n",
        "cats_pipeline = Pipeline([\n",
        "    ('imputer', SimpleImputer(strategy=\"constant\",fill_value='missing')),\n",
        "    (\"cat_cols\",OneHotEncoder()),\n",
        "])\n",
        "\n",
        "cats_pipeline.fit_transform(df_catcols)"
      ],
      "execution_count": 15,
      "outputs": [
        {
          "output_type": "execute_result",
          "data": {
            "text/plain": [
              "<62035x134 sparse matrix of type '<class 'numpy.float64'>'\n",
              "\twith 744420 stored elements in Compressed Sparse Row format>"
            ]
          },
          "metadata": {
            "tags": []
          },
          "execution_count": 15
        }
      ]
    },
    {
      "cell_type": "markdown",
      "metadata": {
        "id": "O8RComZUSGhm",
        "colab_type": "text"
      },
      "source": [
        "## FullPipeline"
      ]
    },
    {
      "cell_type": "code",
      "metadata": {
        "id": "mtAbsfKHSGhn",
        "colab_type": "code",
        "colab": {}
      },
      "source": [
        "from sklearn.compose import ColumnTransformer \n",
        "\n",
        "date_attribs =[\"ListDate\"]\n",
        "num_attribs = num_cols\n",
        "cat_attribs = cat_cols\n",
        "#binary_attribs=bin_cols\n",
        "     \n",
        "full_pipeline = ColumnTransformer([\n",
        "    (\"date.time\", date_pipeline, date_attribs), #6\n",
        "    (\"num_cols\", num_pipeline, num_attribs),    # 11\n",
        "    #(\"binary_cols\",binary_pipeline,binary_attribs),#2\n",
        "    (\"cat_cols\", cats_pipeline, cat_attribs), #110\n",
        "])\n"
      ],
      "execution_count": 16,
      "outputs": []
    },
    {
      "cell_type": "code",
      "metadata": {
        "id": "O6QgBedqSGhq",
        "colab_type": "code",
        "colab": {
          "base_uri": "https://localhost:8080/",
          "height": 51
        },
        "outputId": "d77cad9d-2326-4946-a94f-c7f9a1c1684a"
      },
      "source": [
        "df=train.copy()\n",
        "full_pipeline.fit_transform(df)"
      ],
      "execution_count": 17,
      "outputs": [
        {
          "output_type": "execute_result",
          "data": {
            "text/plain": [
              "<62035x138 sparse matrix of type '<class 'numpy.float64'>'\n",
              "\twith 992560 stored elements in Compressed Sparse Row format>"
            ]
          },
          "metadata": {
            "tags": []
          },
          "execution_count": 17
        }
      ]
    },
    {
      "cell_type": "markdown",
      "metadata": {
        "id": "JphJHfNISGhu",
        "colab_type": "text"
      },
      "source": [
        "## Prepare Data"
      ]
    },
    {
      "cell_type": "code",
      "metadata": {
        "id": "hMgjZyA_SGhv",
        "colab_type": "code",
        "colab": {}
      },
      "source": [
        "# for second attempt i opened std scaler\n",
        "X_train = train.drop([\"Junk\"],axis=1).copy()\n",
        "y_train = train[\"Junk\"].copy()\n",
        "\n",
        "X_test = test.copy()"
      ],
      "execution_count": 18,
      "outputs": []
    },
    {
      "cell_type": "code",
      "metadata": {
        "id": "WUZC-vZJSGhx",
        "colab_type": "code",
        "colab": {
          "base_uri": "https://localhost:8080/",
          "height": 34
        },
        "outputId": "ea1eec53-2950-4568-d94b-a0eb12c721d6"
      },
      "source": [
        "X_train_prepared = full_pipeline.fit_transform(X_train)\n",
        "X_test_prepared = full_pipeline.transform(X_test)\n",
        "\n",
        "X_train_prepared.shape, X_test_prepared.shape"
      ],
      "execution_count": 19,
      "outputs": [
        {
          "output_type": "execute_result",
          "data": {
            "text/plain": [
              "((62035, 138), (10948, 138))"
            ]
          },
          "metadata": {
            "tags": []
          },
          "execution_count": 19
        }
      ]
    },
    {
      "cell_type": "code",
      "metadata": {
        "id": "Z5i82dV6SGh2",
        "colab_type": "code",
        "colab": {}
      },
      "source": [
        "## Testing on Models"
      ],
      "execution_count": 22,
      "outputs": []
    },
    {
      "cell_type": "code",
      "metadata": {
        "id": "DzM0i38qSGh5",
        "colab_type": "code",
        "colab": {
          "base_uri": "https://localhost:8080/",
          "height": 51
        },
        "outputId": "52598e1b-58cd-4a6d-d2dd-ed42436cd8d1"
      },
      "source": [
        "from sklearn.linear_model import LogisticRegression\n",
        "log_reg = LogisticRegression(random_state=0,max_iter=1000)\n",
        "log_reg.fit(X_train_prepared, y_train)\n",
        "\n",
        "from sklearn.model_selection import cross_val_score\n",
        "scores = cross_val_score(log_reg, X_train_prepared, y_train,scoring=\"roc_auc\", cv=10)\n",
        "print(\"roc-auc:  \",scores)"
      ],
      "execution_count": 23,
      "outputs": [
        {
          "output_type": "stream",
          "text": [
            "roc-auc:   [0.65960316 0.67226111 0.69328401 0.68457238 0.68468887 0.66309964\n",
            " 0.67472115 0.69461875 0.68246795 0.68559678]\n"
          ],
          "name": "stdout"
        }
      ]
    },
    {
      "cell_type": "code",
      "metadata": {
        "id": "7TNAOcjPSGiF",
        "colab_type": "code",
        "colab": {
          "base_uri": "https://localhost:8080/",
          "height": 51
        },
        "outputId": "3475476f-f3ed-4c61-d7b4-e90576eea6fc"
      },
      "source": [
        "from sklearn.tree import DecisionTreeClassifier\n",
        "dt_clf = DecisionTreeClassifier()\n",
        "dt_clf.fit(X_train_prepared, y_train)\n",
        "\n",
        "from sklearn.model_selection import cross_val_score\n",
        "scores = cross_val_score(dt_clf, X_train_prepared, y_train,scoring=\"roc_auc\", cv=10)\n",
        "print(\"roc-auc:  \",scores)"
      ],
      "execution_count": 24,
      "outputs": [
        {
          "output_type": "stream",
          "text": [
            "roc-auc:   [0.53090486 0.5370374  0.5344405  0.53454002 0.53958852 0.53433611\n",
            " 0.54051873 0.53646052 0.54307984 0.53070445]\n"
          ],
          "name": "stdout"
        }
      ]
    },
    {
      "cell_type": "code",
      "metadata": {
        "id": "j45EkW-sSGiH",
        "colab_type": "code",
        "colab": {
          "base_uri": "https://localhost:8080/",
          "height": 51
        },
        "outputId": "78e28e27-54ea-4330-84bf-ce3c99bd345e"
      },
      "source": [
        "from sklearn.ensemble import GradientBoostingClassifier\n",
        "gbm_clf=GradientBoostingClassifier(loss=\"deviance\")\n",
        "\n",
        "gbm_clf.fit(X_train_prepared, y_train)\n",
        "\n",
        "from sklearn.model_selection import cross_val_score\n",
        "scores = cross_val_score(gbm_clf, X_train_prepared, y_train,scoring=\"roc_auc\", cv=10)\n",
        "print(\"roc-auc:  \",scores)"
      ],
      "execution_count": 25,
      "outputs": [
        {
          "output_type": "stream",
          "text": [
            "roc-auc:   [0.66119787 0.68328314 0.69758244 0.69012364 0.68990527 0.6677524\n",
            " 0.68333591 0.70234862 0.68415384 0.6853791 ]\n"
          ],
          "name": "stdout"
        }
      ]
    },
    {
      "cell_type": "code",
      "metadata": {
        "id": "EgeDNdXpV7J8",
        "colab_type": "code",
        "colab": {
          "base_uri": "https://localhost:8080/",
          "height": 85
        },
        "outputId": "e71876f4-5ca1-4ec2-e239-c5a12adfab96"
      },
      "source": [
        "display(train[\"Junk\"].value_counts()/len(train))\n",
        "0.877456/0.122544"
      ],
      "execution_count": 27,
      "outputs": [
        {
          "output_type": "display_data",
          "data": {
            "text/plain": [
              "0    0.877456\n",
              "1    0.122544\n",
              "Name: Junk, dtype: float64"
            ]
          },
          "metadata": {
            "tags": []
          }
        },
        {
          "output_type": "execute_result",
          "data": {
            "text/plain": [
              "7.160334247290769"
            ]
          },
          "metadata": {
            "tags": []
          },
          "execution_count": 27
        }
      ]
    },
    {
      "cell_type": "code",
      "metadata": {
        "id": "wD5w-utGVZcn",
        "colab_type": "code",
        "colab": {
          "base_uri": "https://localhost:8080/",
          "height": 51
        },
        "outputId": "7e606772-eaf3-4e9b-cad2-000964a818ab"
      },
      "source": [
        "xgb_clf=XGBClassifier(scale_pos_weight=7,max_delta_step=2)\n",
        "\n",
        "xgb_clf.fit(X_train_prepared, y_train)\n",
        "\n",
        "from sklearn.model_selection import cross_val_score\n",
        "scores = cross_val_score(xgb_clf, X_train_prepared, y_train,scoring=\"roc_auc\", cv=10)\n",
        "print(\"roc-auc:  \",scores)"
      ],
      "execution_count": 28,
      "outputs": [
        {
          "output_type": "stream",
          "text": [
            "roc-auc:   [0.65937331 0.68044648 0.69831889 0.69155817 0.68876709 0.66882415\n",
            " 0.6855934  0.70325877 0.68222065 0.68949846]\n"
          ],
          "name": "stdout"
        }
      ]
    },
    {
      "cell_type": "code",
      "metadata": {
        "id": "POsTtbW3WdDG",
        "colab_type": "code",
        "colab": {
          "base_uri": "https://localhost:8080/",
          "height": 51
        },
        "outputId": "7c56d015-32d3-48b7-db2e-d47b6776923b"
      },
      "source": [
        "xgb_clf=XGBClassifier(max_delta_step=2, n_estimators=1000,scale_pos_weight=3 )\n",
        "\n",
        "xgb_clf.fit(X_train_prepared, y_train)\n",
        "\n",
        "from sklearn.model_selection import cross_val_score\n",
        "scores = cross_val_score(xgb_clf, X_train_prepared, y_train,scoring=\"roc_auc\", cv=10)\n",
        "print(\"roc-auc:  \",scores)"
      ],
      "execution_count": 30,
      "outputs": [
        {
          "output_type": "stream",
          "text": [
            "roc-auc:   [0.661969   0.68171732 0.69925884 0.6911393  0.69496826 0.6746531\n",
            " 0.68483627 0.70137683 0.68860427 0.69128129]\n"
          ],
          "name": "stdout"
        }
      ]
    },
    {
      "cell_type": "code",
      "metadata": {
        "id": "vXSV3_ojX4-6",
        "colab_type": "code",
        "colab": {
          "base_uri": "https://localhost:8080/",
          "height": 51
        },
        "outputId": "41bd2636-4c61-468d-df3c-5f738eb31093"
      },
      "source": [
        "xgb_clf=XGBClassifier(max_delta_step=2, n_estimators=1000,scale_pos_weight=3 )\n",
        "\n",
        "xgb_clf.fit(X_train_prepared, y_train)\n",
        "\n",
        "from sklearn.model_selection import cross_val_score\n",
        "scores = cross_val_score(xgb_clf, X_train_prepared, y_train,scoring=\"roc_auc\", cv=10)\n",
        "print(\"roc-auc:  \",scores)"
      ],
      "execution_count": 31,
      "outputs": [
        {
          "output_type": "stream",
          "text": [
            "roc-auc:   [0.66336648 0.67772608 0.7009466  0.689607   0.68917014 0.67217672\n",
            " 0.68776906 0.69976551 0.68894935 0.69139165]\n"
          ],
          "name": "stdout"
        }
      ]
    },
    {
      "cell_type": "code",
      "metadata": {
        "id": "tDKcHDfpX5I2",
        "colab_type": "code",
        "colab": {
          "base_uri": "https://localhost:8080/",
          "height": 221
        },
        "outputId": "4ca1b4de-19e8-412d-c223-77c06e965520"
      },
      "source": [
        "def report(results, n_top=3):\n",
        "    for i in range(1, n_top + 1):\n",
        "        candidate = np.flatnonzero(results['rank_test_score'] == i)[0]\n",
        "        print(\"Model with rank: {0}\".format(i))\n",
        "        print(\"Mean validation score: {0:.5f} (std: {1:.5f})\".format(\n",
        "            results['mean_test_score'][candidate],\n",
        "            results['std_test_score'][candidate]))\n",
        "        print(\"Parameters: {0}\".format(results['params'][candidate]))\n",
        "        print(\"\")\n",
        "\n",
        "from xgboost.sklearn import XGBClassifier\n",
        "from sklearn.model_selection import GridSearchCV\n",
        "\n",
        "xgb_params = {\"n_estimators\":[100,500,1000,1500],}\n",
        "\n",
        "xgb1=XGBClassifier(subsample=0.8,colsample_bylevel=0.8,colsample_bytree=0.8)\n",
        "\n",
        "grid_search=GridSearchCV(xgb1,cv=5,param_grid=xgb_params,\n",
        "\n",
        "scoring='roc_auc',verbose=False,n_jobs=-1)\n",
        "\n",
        "grid_search.fit(X_train_prepared, y_train)\n",
        "\n",
        "report(grid_search.cv_results_,3)"
      ],
      "execution_count": 20,
      "outputs": [
        {
          "output_type": "stream",
          "text": [
            "Model with rank: 1\n",
            "Mean validation score: 0.69065 (std: 0.00928)\n",
            "Parameters: {'n_estimators': 500}\n",
            "\n",
            "Model with rank: 2\n",
            "Mean validation score: 0.68797 (std: 0.00875)\n",
            "Parameters: {'n_estimators': 1000}\n",
            "\n",
            "Model with rank: 3\n",
            "Mean validation score: 0.68556 (std: 0.00920)\n",
            "Parameters: {'n_estimators': 100}\n",
            "\n"
          ],
          "name": "stdout"
        }
      ]
    },
    {
      "cell_type": "code",
      "metadata": {
        "id": "8GxvuFkVMS20",
        "colab_type": "code",
        "colab": {
          "base_uri": "https://localhost:8080/",
          "height": 221
        },
        "outputId": "b40f36e3-1bfd-4159-e542-1e72d9011a0e"
      },
      "source": [
        "xgb_params={\"gamma\":[0,2,5,8,10],\n",
        "            \"max_depth\": [2,3,4,5,6,7,8],\n",
        "            \"min_child_weight\":[0.5,1,2,5,10]\n",
        "}\n",
        "\n",
        "xgb2=XGBClassifier(n_estimators=500,subsample=0.8,\n",
        "                   colsample_bylevel=0.8,colsample_bytree=0.8)\n",
        "\n",
        "random_search=RandomizedSearchCV(xgb2,param_distributions=xgb_params,n_iter=10,\n",
        "                                 cv=5,scoring='roc_auc',\n",
        "                                 n_jobs=-1,verbose=False)\n",
        "\n",
        "random_search.fit(X_train_prepared, y_train)\n",
        "report(random_search.cv_results_,3)"
      ],
      "execution_count": 21,
      "outputs": [
        {
          "output_type": "stream",
          "text": [
            "Model with rank: 1\n",
            "Mean validation score: 0.69183 (std: 0.00973)\n",
            "Parameters: {'min_child_weight': 1, 'max_depth': 6, 'gamma': 8}\n",
            "\n",
            "Model with rank: 2\n",
            "Mean validation score: 0.69155 (std: 0.00982)\n",
            "Parameters: {'min_child_weight': 1, 'max_depth': 5, 'gamma': 10}\n",
            "\n",
            "Model with rank: 3\n",
            "Mean validation score: 0.69133 (std: 0.00926)\n",
            "Parameters: {'min_child_weight': 2, 'max_depth': 6, 'gamma': 8}\n",
            "\n"
          ],
          "name": "stdout"
        }
      ]
    },
    {
      "cell_type": "code",
      "metadata": {
        "id": "vMzHtYSQLG3Z",
        "colab_type": "code",
        "colab": {
          "base_uri": "https://localhost:8080/",
          "height": 221
        },
        "outputId": "f82d3028-d298-4cd3-cc34-846ce2fa2c56"
      },
      "source": [
        "xgb_params={\n",
        "    'max_delta_step':[0,1,3,6,10],\n",
        "    'scale_pos_weight':[1,2,3,4]\n",
        "}\n",
        "\n",
        "xgb3=XGBClassifier(n_estimators=500,min_child_weight=1,gamma=8,max_depth=6,\n",
        "                  subsample=0.8,colsample_bylevel=0.8,colsample_bytree=0.8)\n",
        "\n",
        "from sklearn.model_selection import GridSearchCV\n",
        "\n",
        "grid_search=GridSearchCV(xgb3,param_grid=xgb_params,\n",
        "                         cv=5,scoring='roc_auc',n_jobs=-1,verbose=False)\n",
        "grid_search.fit(X_train_prepared, y_train)\n",
        "report(grid_search.cv_results_,3)"
      ],
      "execution_count": 22,
      "outputs": [
        {
          "output_type": "stream",
          "text": [
            "Model with rank: 1\n",
            "Mean validation score: 0.69224 (std: 0.00872)\n",
            "Parameters: {'max_delta_step': 1, 'scale_pos_weight': 1}\n",
            "\n",
            "Model with rank: 2\n",
            "Mean validation score: 0.69194 (std: 0.00985)\n",
            "Parameters: {'max_delta_step': 3, 'scale_pos_weight': 1}\n",
            "\n",
            "Model with rank: 3\n",
            "Mean validation score: 0.69183 (std: 0.00973)\n",
            "Parameters: {'max_delta_step': 0, 'scale_pos_weight': 1}\n",
            "\n"
          ],
          "name": "stdout"
        }
      ]
    },
    {
      "cell_type": "code",
      "metadata": {
        "id": "6vRC8cDlMUS_",
        "colab_type": "code",
        "colab": {
          "base_uri": "https://localhost:8080/",
          "height": 221
        },
        "outputId": "a86af0d4-bfe2-48a8-a581-e18a1b363b36"
      },
      "source": [
        "\n",
        "xgb_params={'subsample': [i/10 for i in range(5,11)],\n",
        "            'colsample_bytree':[i/10 for i in range(5,11)],\n",
        "            'colsample_bylevel':[i/10 for i in range(5,11)]\n",
        "            }\n",
        "\n",
        "xgb4=XGBClassifier(n_estimators=500,min_child_weight=1,gamma=6,max_depth=8, scale_pos_weight=1,max_delta_step=1)\n",
        "\n",
        "random_search=RandomizedSearchCV(xgb4,param_distributions=xgb_params,\n",
        "                                 cv=5,n_iter=7,scoring='roc_auc',\n",
        "                                n_jobs=-1,verbose=False)\n",
        "\n",
        "random_search.fit(X_train_prepared, y_train)\n",
        "report(random_search.cv_results_,3)"
      ],
      "execution_count": 25,
      "outputs": [
        {
          "output_type": "stream",
          "text": [
            "Model with rank: 1\n",
            "Mean validation score: 0.69204 (std: 0.00937)\n",
            "Parameters: {'subsample': 1.0, 'colsample_bytree': 0.6, 'colsample_bylevel': 0.8}\n",
            "\n",
            "Model with rank: 2\n",
            "Mean validation score: 0.69203 (std: 0.00976)\n",
            "Parameters: {'subsample': 1.0, 'colsample_bytree': 0.6, 'colsample_bylevel': 1.0}\n",
            "\n",
            "Model with rank: 3\n",
            "Mean validation score: 0.69182 (std: 0.00932)\n",
            "Parameters: {'subsample': 1.0, 'colsample_bytree': 1.0, 'colsample_bylevel': 0.9}\n",
            "\n"
          ],
          "name": "stdout"
        }
      ]
    },
    {
      "cell_type": "code",
      "metadata": {
        "id": "TnteT6iEbvCL",
        "colab_type": "code",
        "colab": {
          "base_uri": "https://localhost:8080/",
          "height": 136
        },
        "outputId": "42249f37-313e-4819-ae9c-ecfc553eb893"
      },
      "source": [
        "xgb4"
      ],
      "execution_count": 27,
      "outputs": [
        {
          "output_type": "execute_result",
          "data": {
            "text/plain": [
              "XGBClassifier(base_score=0.5, booster='gbtree', colsample_bylevel=1,\n",
              "              colsample_bynode=1, colsample_bytree=1, gamma=6,\n",
              "              learning_rate=0.1, max_delta_step=1, max_depth=8,\n",
              "              min_child_weight=1, missing=None, n_estimators=500, n_jobs=1,\n",
              "              nthread=None, objective='binary:logistic', random_state=0,\n",
              "              reg_alpha=0, reg_lambda=1, scale_pos_weight=1, seed=None,\n",
              "              silent=None, subsample=1, verbosity=1)"
            ]
          },
          "metadata": {
            "tags": []
          },
          "execution_count": 27
        }
      ]
    },
    {
      "cell_type": "code",
      "metadata": {
        "id": "WMJobvV-LG8q",
        "colab_type": "code",
        "colab": {
          "base_uri": "https://localhost:8080/",
          "height": 221
        },
        "outputId": "be4ac0ba-8bcd-4581-fa1f-10708ecef168"
      },
      "source": [
        "\n",
        "xgb_params={\"reg_lambda\":[i/10 for i in range(0,50)],\n",
        "            'reg_alpha':[i/10 for i in range(0,50)]\n",
        "            }\n",
        "\n",
        "xgb5=XGBClassifier(n_estimators=500,min_child_weight=1,gamma=6,max_depth=8, scale_pos_weight=1,max_delta_step=1,\n",
        "                   subsample=1.0, colsample_bytree=0.6, colsample_bylevel=0.8)\n",
        "\n",
        "random_search=RandomizedSearchCV(xgb5,param_distributions=xgb_params,\n",
        "                                 cv=5,n_iter=10,scoring='roc_auc',\n",
        "                                 n_jobs=-1,verbose=False)\n",
        "\n",
        "random_search.fit(X_train_prepared, y_train)\n",
        "\n",
        "report(random_search.cv_results_,3)"
      ],
      "execution_count": 29,
      "outputs": [
        {
          "output_type": "stream",
          "text": [
            "Model with rank: 1\n",
            "Mean validation score: 0.69346 (std: 0.00975)\n",
            "Parameters: {'reg_lambda': 0.1, 'reg_alpha': 2.2}\n",
            "\n",
            "Model with rank: 2\n",
            "Mean validation score: 0.69287 (std: 0.00870)\n",
            "Parameters: {'reg_lambda': 2.3, 'reg_alpha': 1.0}\n",
            "\n",
            "Model with rank: 3\n",
            "Mean validation score: 0.69250 (std: 0.00944)\n",
            "Parameters: {'reg_lambda': 0.3, 'reg_alpha': 3.5}\n",
            "\n"
          ],
          "name": "stdout"
        }
      ]
    },
    {
      "cell_type": "code",
      "metadata": {
        "id": "uX7oCvcqhoXH",
        "colab_type": "code",
        "colab": {
          "base_uri": "https://localhost:8080/",
          "height": 51
        },
        "outputId": "e6827fc0-4595-4c00-93ed-31bc0f6a0d58"
      },
      "source": [
        "final_xgb=XGBClassifier(n_estimators=500,min_child_weight=1,gamma=6,max_depth=8, scale_pos_weight=1,max_delta_step=1,\n",
        "                        subsample=1.0, colsample_bytree=0.6, colsample_bylevel=0.8,reg_lambda=0.1,reg_alpha=2.2)\n",
        "\n",
        "final_xgb.fit(X_train_prepared, y_train)\n",
        "\n",
        "from sklearn.model_selection import cross_val_score\n",
        "scores = cross_val_score(final_xgb, X_train_prepared, y_train,scoring=\"roc_auc\", cv=10)\n",
        "print(\"roc-auc:  \",scores)"
      ],
      "execution_count": 30,
      "outputs": [
        {
          "output_type": "stream",
          "text": [
            "roc-auc:   [0.67355357 0.68781227 0.70585012 0.6992267  0.69866914 0.67615685\n",
            " 0.69163145 0.70860726 0.69127694 0.69505461]\n"
          ],
          "name": "stdout"
        }
      ]
    },
    {
      "cell_type": "code",
      "metadata": {
        "id": "XUTsXYT8SGic",
        "colab_type": "code",
        "colab": {}
      },
      "source": [
        "y_test_pred=final_xgb.predict_proba(X_test_prepared)[:,1]\n",
        "\n",
        "mysubmission=pd.DataFrame(y_test_pred,columns=[\"Junk\"])\n",
        "pd.DataFrame(mysubmission).to_csv(\"Submi_P5_EdvPy_KSV_Xgb_S05.csv\",index=False)"
      ],
      "execution_count": 33,
      "outputs": []
    },
    {
      "cell_type": "code",
      "metadata": {
        "id": "l3NBrNq-j4Ra",
        "colab_type": "code",
        "colab": {
          "base_uri": "https://localhost:8080/",
          "height": 34
        },
        "outputId": "205143ea-c185-4060-9e68-42620d85c03b"
      },
      "source": [
        "from google.colab import files\n",
        "files.download(\"Submi_P5_EdvPy_KSV_Xgb_S05.csv\")"
      ],
      "execution_count": 34,
      "outputs": [
        {
          "output_type": "display_data",
          "data": {
            "application/javascript": [
              "\n",
              "    async function download(id, filename, size) {\n",
              "      if (!google.colab.kernel.accessAllowed) {\n",
              "        return;\n",
              "      }\n",
              "      const div = document.createElement('div');\n",
              "      const label = document.createElement('label');\n",
              "      label.textContent = `Downloading \"${filename}\": `;\n",
              "      div.appendChild(label);\n",
              "      const progress = document.createElement('progress');\n",
              "      progress.max = size;\n",
              "      div.appendChild(progress);\n",
              "      document.body.appendChild(div);\n",
              "\n",
              "      const buffers = [];\n",
              "      let downloaded = 0;\n",
              "\n",
              "      const channel = await google.colab.kernel.comms.open(id);\n",
              "      // Send a message to notify the kernel that we're ready.\n",
              "      channel.send({})\n",
              "\n",
              "      for await (const message of channel.messages) {\n",
              "        // Send a message to notify the kernel that we're ready.\n",
              "        channel.send({})\n",
              "        if (message.buffers) {\n",
              "          for (const buffer of message.buffers) {\n",
              "            buffers.push(buffer);\n",
              "            downloaded += buffer.byteLength;\n",
              "            progress.value = downloaded;\n",
              "          }\n",
              "        }\n",
              "      }\n",
              "      const blob = new Blob(buffers, {type: 'application/binary'});\n",
              "      const a = document.createElement('a');\n",
              "      a.href = window.URL.createObjectURL(blob);\n",
              "      a.download = filename;\n",
              "      div.appendChild(a);\n",
              "      a.click();\n",
              "      div.remove();\n",
              "    }\n",
              "  "
            ],
            "text/plain": [
              "<IPython.core.display.Javascript object>"
            ]
          },
          "metadata": {
            "tags": []
          }
        },
        {
          "output_type": "display_data",
          "data": {
            "application/javascript": [
              "download(\"download_e77dca15-3ea5-433a-b6c5-ecc0b7f3e846\", \"Submi_P5_EdvPy_KSV_Xgb_S05.csv\", 121835)"
            ],
            "text/plain": [
              "<IPython.core.display.Javascript object>"
            ]
          },
          "metadata": {
            "tags": []
          }
        }
      ]
    },
    {
      "cell_type": "code",
      "metadata": {
        "id": "YxGk3lrLkCoA",
        "colab_type": "code",
        "colab": {}
      },
      "source": [
        ""
      ],
      "execution_count": null,
      "outputs": []
    }
  ]
}