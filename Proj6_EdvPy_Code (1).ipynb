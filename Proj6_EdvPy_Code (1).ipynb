{
 "cells": [
  {
   "cell_type": "markdown",
   "metadata": {},
   "source": [
    "## Predict No Shows for Medical Appointments"
   ]
  },
  {
   "cell_type": "code",
   "execution_count": 2,
   "metadata": {
    "colab": {},
    "colab_type": "code",
    "id": "5YoylIuP0HKs"
   },
   "outputs": [],
   "source": [
    "# Python ≥3.5 is required\n",
    "import sys\n",
    "assert sys.version_info >= (3, 5)\n",
    "\n",
    "# Common imports for data\n",
    "import numpy as np\n",
    "import pandas as pd\n",
    "import os\n",
    "\n",
    "# for metrics, preprocessing\n",
    "import sklearn\n",
    "\n",
    "\n",
    "# models\n",
    "from sklearn.ensemble import RandomForestClassifier\n",
    "from sklearn.ensemble import GradientBoostingClassifier\n",
    "#from xgboost.sklearn import XGBClassifier\n",
    "from sklearn.model_selection import RandomizedSearchCV\n",
    "\n",
    "# to make this notebook's output stable across runs\n",
    "np.random.seed(42)\n",
    "\n",
    "# To plot \n",
    "%matplotlib inline\n",
    "import matplotlib as mpl\n",
    "import matplotlib.pyplot as plt\n"
   ]
  },
  {
   "cell_type": "raw",
   "metadata": {
    "colab": {
     "base_uri": "https://localhost:8080/",
     "height": 122
    },
    "colab_type": "code",
    "id": "gxpUaiCtPeaE",
    "outputId": "c0dea3da-b8d6-46da-d97c-617565bd3b6f"
   },
   "source": [
    "from google.colab import drive\n",
    "drive.mount(\"/content/gdrive\")\n",
    "#download the data\n",
    "os.chdir('/content/gdrive/My Drive/Data_Edv_P_P6/')\n",
    "os.listdir()"
   ]
  },
  {
   "cell_type": "code",
   "execution_count": 8,
   "metadata": {
    "colab": {
     "base_uri": "https://localhost:8080/",
     "height": 34
    },
    "colab_type": "code",
    "id": "RO8cLaeU1a6L",
    "outputId": "b2c97a6f-ce34-4bbd-e961-a648f88bc473"
   },
   "outputs": [],
   "source": [
    "import os\n",
    "os.getcwd()\n",
    "os.chdir('/Users/vivekkathula/Documents/Edv py projects/P6/')\n",
    "#os.listdir()"
   ]
  },
  {
   "cell_type": "code",
   "execution_count": 9,
   "metadata": {
    "colab": {},
    "colab_type": "code",
    "id": "qTMAM7762OjG"
   },
   "outputs": [],
   "source": [
    "train = pd.read_csv(\"train.csv\")\n",
    "test =pd.read_csv(\"test_share.csv\")\n",
    "medical = pd.read_csv(\"medical_history.csv\")\n",
    "demographic=pd.read_csv(\"demographic_details.csv\")"
   ]
  },
  {
   "cell_type": "code",
   "execution_count": 10,
   "metadata": {
    "colab": {},
    "colab_type": "code",
    "id": "tIwjJfcf2fkK"
   },
   "outputs": [],
   "source": [
    "df_1=pd.merge(train,medical,on=['PatientId'],how='inner').copy()\n",
    "df_train=pd.merge(df_1,demographic,on=['PatientId'],how='inner').copy()"
   ]
  },
  {
   "cell_type": "code",
   "execution_count": 11,
   "metadata": {
    "colab": {},
    "colab_type": "code",
    "id": "pMlZK7782o4L"
   },
   "outputs": [],
   "source": [
    "df_2=pd.merge(test,medical,on=['PatientId'],how='inner').copy()\n",
    "df_test=pd.merge(df_2,demographic,on=['PatientId'],how='inner').copy()"
   ]
  },
  {
   "cell_type": "code",
   "execution_count": 12,
   "metadata": {
    "colab": {},
    "colab_type": "code",
    "id": "gQqZ0tRG2sTo"
   },
   "outputs": [],
   "source": [
    "num_cols = ['Age']\n",
    "cat_cols = ['Handcap','Neighbourhood']\n",
    "binary_cols = ['SMS_received','Hipertension','Diabetes','Alcoholism','SMS_received','Gender','Scholarship']\n",
    "date_cols =['ScheduledDay','AppointmentDay']"
   ]
  },
  {
   "cell_type": "markdown",
   "metadata": {
    "colab_type": "text",
    "id": "1ue4tmm43vfN"
   },
   "source": [
    "## Create Valid Set"
   ]
  },
  {
   "cell_type": "code",
   "execution_count": 13,
   "metadata": {
    "colab": {},
    "colab_type": "code",
    "id": "-FNjULk52wwv"
   },
   "outputs": [],
   "source": [
    "df_train['No-show']=np.where(df_train['No-show']=='Yes',1,0)"
   ]
  },
  {
   "cell_type": "code",
   "execution_count": 14,
   "metadata": {
    "colab": {},
    "colab_type": "code",
    "id": "xH4z3JX63ptk"
   },
   "outputs": [],
   "source": [
    "# stratified split is what i prefer but there are cats that came only once in train\n",
    "from sklearn.model_selection import train_test_split\n",
    "train_set, valid_set = train_test_split(df_train, test_size=0.2, random_state=42)"
   ]
  },
  {
   "cell_type": "markdown",
   "metadata": {
    "colab_type": "text",
    "id": "NvxEnYPI338C"
   },
   "source": [
    "## Custom Tranformers"
   ]
  },
  {
   "cell_type": "code",
   "execution_count": 15,
   "metadata": {
    "colab": {
     "base_uri": "https://localhost:8080/",
     "height": 34
    },
    "colab_type": "code",
    "id": "QhE_E60i354n",
    "outputId": "420834bf-a134-4c6e-add4-a973037b349c"
   },
   "outputs": [
    {
     "data": {
      "text/plain": [
       "(79592, 14)"
      ]
     },
     "execution_count": 15,
     "metadata": {},
     "output_type": "execute_result"
    }
   ],
   "source": [
    "from sklearn.base import BaseEstimator, TransformerMixin\n",
    "\n",
    "ScheduledDay_ix, AppointmentDay_ix, = 2,3\n",
    "\n",
    "class CombinedAttributesAdder(BaseEstimator, TransformerMixin):\n",
    "    def __init__(self, add_Adow_sin = True): # no *args or **kargs\n",
    "        self.add_Adow_sin = add_Adow_sin\n",
    "        \n",
    "    def fit(self, X, y=None):\n",
    "        return self # nothing else to do \n",
    "    \n",
    "    def transform(self, X):\n",
    "        #Sdate = pd.to_datetime(X[\"ScheduledDay\"], format='%Y-%m-%dT%H:%M:%SZ')\n",
    "        #Adate = pd.to_datetime(X[\"AppointmentDay\"], format='%Y-%m-%dT%H:%M:%SZ')\n",
    "        Sdate = pd.to_datetime(X[:,2], format='%Y-%m-%dT%H:%M:%SZ')\n",
    "        Adate = pd.to_datetime(X[:,3], format='%Y-%m-%dT%H:%M:%SZ')\n",
    "        \n",
    "        A_day=Adate.day\n",
    "        A_dofweek=Adate.dayofweek\n",
    "        A_month=Adate.month\n",
    "        \n",
    "        S_hr=Sdate.hour\n",
    "        S_day=Sdate.day\n",
    "        S_dofweek=Sdate.dayofweek\n",
    "        S_month=Sdate.month\n",
    "        \n",
    "        sin_S_hr = np.sin(2 * np.pi * (S_hr-S_hr.min())/(S_hr.max()-S_hr.min()))\n",
    "        cos_S_hr = np.cos(2 * np.pi * (S_hr-S_hr.min())/(S_hr.max()-S_hr.min()))\n",
    "        \n",
    "        sin_S_day = np.sin(2 * np.pi * (S_day-S_day.min())/(S_day.max()-S_day.min()))\n",
    "        cos_S_day = np.cos(2 * np.pi * (S_day-S_day.min())/(S_day.max()-S_day.min()))\n",
    "        \n",
    "        sin_S_dofweek=np.sin(2 * np.pi * (S_dofweek-S_dofweek.min())/(S_dofweek.max()-S_dofweek.min()))\n",
    "        cos_S_dofweek=np.cos(2 * np.pi * (S_dofweek-S_dofweek.min())/(S_dofweek.max()-S_dofweek.min()))\n",
    "        \n",
    "        sin_S_month = np.sin(2 * np.pi * (S_month-S_month.min())/(S_month.max()-S_month.min()))\n",
    "        cos_S_month = np.cos(2 * np.pi * (S_month-S_month.min())/(S_month.max()-S_month.min()))\n",
    "        \n",
    "        sin_A_day= np.sin(2 * np.pi * (A_day-A_day.min())/(A_day.max()-A_day.min()))\n",
    "        cos_A_day= np.sin(2 * np.pi * (A_day-A_day.min())/(A_day.max()-A_day.min()))\n",
    "        \n",
    "        sin_A_dofweek = np.sin(2 * np.pi * (A_dofweek-S_dofweek.min())/(A_dofweek.max()-A_dofweek.min()))\n",
    "        cos_A_dofweek = np.cos(2 * np.pi * (A_dofweek-S_dofweek.min())/(A_dofweek.max()-A_dofweek.min()))\n",
    "        \n",
    "        sin_A_month = np.sin(2 * np.pi * (A_month-A_month.min())/(A_month.max()-A_month.min()))\n",
    "        cos_A_month = np.cos(2 * np.pi * (A_month-A_month.min())/(A_month.max()-A_month.min()))\n",
    "        \n",
    "        return np.c_[sin_S_hr, sin_S_hr, sin_S_day, cos_S_day,sin_S_dofweek,cos_S_dofweek,\n",
    "                     sin_S_month,cos_S_month,sin_A_day,cos_A_day,sin_A_dofweek,cos_A_dofweek,                    \n",
    "                     sin_A_month,cos_A_month]\n",
    "\n",
    "attr_adder = CombinedAttributesAdder()\n",
    "data_extra_attribs = attr_adder.transform(train_set.values)\n",
    "data_extra_attribs.shape"
   ]
  },
  {
   "cell_type": "markdown",
   "metadata": {
    "colab_type": "text",
    "id": "iZ5pw1xM4FaJ"
   },
   "source": [
    "## Transformation Pipeline"
   ]
  },
  {
   "cell_type": "code",
   "execution_count": 16,
   "metadata": {
    "colab": {
     "base_uri": "https://localhost:8080/",
     "height": 34
    },
    "colab_type": "code",
    "id": "-LQxoDx94EJG",
    "outputId": "0de89e6c-f1c3-4dde-e3e5-891c51de4df8"
   },
   "outputs": [
    {
     "data": {
      "text/plain": [
       "(79592, 14)"
      ]
     },
     "execution_count": 16,
     "metadata": {},
     "output_type": "execute_result"
    }
   ],
   "source": [
    "# date cols\n",
    "# for second attempt i opened std scaler\n",
    "from sklearn.impute import SimpleImputer\n",
    "from sklearn.pipeline import Pipeline\n",
    "from sklearn.preprocessing import StandardScaler\n",
    "\n",
    "date_cols=[\"PatientId\",\"AppointmentID\",\"ScheduledDay\",\"AppointmentDay\"]\n",
    "df_train_dates=train_set[date_cols].copy()\n",
    "\n",
    "date_pipeline = Pipeline([            \n",
    "    ('imputer', SimpleImputer(strategy=\"most_frequent\")),\n",
    "    ('attribs_adder', CombinedAttributesAdder()),\n",
    "    ('std_scaler', StandardScaler()),\n",
    "])\n",
    "\n",
    "df_train_dates_tr = date_pipeline.fit_transform(df_train_dates)\n",
    "df_train_dates_tr.shape"
   ]
  },
  {
   "cell_type": "code",
   "execution_count": 17,
   "metadata": {
    "colab": {
     "base_uri": "https://localhost:8080/",
     "height": 34
    },
    "colab_type": "code",
    "id": "DYFrAhkX37Sg",
    "outputId": "ec37bc94-12d9-4b1d-cc3a-cdd2137bdd67"
   },
   "outputs": [
    {
     "data": {
      "text/plain": [
       "(79592, 1)"
      ]
     },
     "execution_count": 17,
     "metadata": {},
     "output_type": "execute_result"
    }
   ],
   "source": [
    "# numcols\n",
    "from sklearn.impute import SimpleImputer\n",
    "from sklearn.pipeline import Pipeline\n",
    "from sklearn.preprocessing import StandardScaler\n",
    "\n",
    "num_cols=[\"Age\"]\n",
    "df_train_num=train_set[num_cols].copy()\n",
    "\n",
    "num_pipeline = Pipeline([            \n",
    "    ('imputer', SimpleImputer(strategy=\"most_frequent\")),\n",
    "    ('std_scaler', StandardScaler()),\n",
    "])\n",
    "\n",
    "df_train_num_tr = num_pipeline.fit_transform(df_train_num)\n",
    "df_train_num_tr.shape"
   ]
  },
  {
   "cell_type": "code",
   "execution_count": 18,
   "metadata": {
    "colab": {
     "base_uri": "https://localhost:8080/",
     "height": 34
    },
    "colab_type": "code",
    "id": "CryZU7Wf5Ke1",
    "outputId": "e65852f6-f1e0-405e-cc2c-6252eafe2b20"
   },
   "outputs": [
    {
     "data": {
      "text/plain": [
       "(79592, 7)"
      ]
     },
     "execution_count": 18,
     "metadata": {},
     "output_type": "execute_result"
    }
   ],
   "source": [
    "#Binarycols\n",
    "df_train_bin=train_set[binary_cols].copy()\n",
    "from sklearn.preprocessing import OneHotEncoder\n",
    "cat_encoder=OneHotEncoder(drop=\"first\")\n",
    "\n",
    "df_train_bin_tr = cat_encoder.fit_transform(df_train_bin)\n",
    "df_train_bin_tr.shape"
   ]
  },
  {
   "cell_type": "code",
   "execution_count": 19,
   "metadata": {
    "colab": {
     "base_uri": "https://localhost:8080/",
     "height": 34
    },
    "colab_type": "code",
    "id": "PKH2l-SZ4cgt",
    "outputId": "16a9e81c-8839-4f9d-cd78-69c32e19ffb7"
   },
   "outputs": [
    {
     "data": {
      "text/plain": [
       "(79592, 86)"
      ]
     },
     "execution_count": 19,
     "metadata": {},
     "output_type": "execute_result"
    }
   ],
   "source": [
    "#catcols, not binary\n",
    "df_train_cat=train_set[cat_cols].copy()\n",
    "from sklearn.preprocessing import OneHotEncoder\n",
    "cat_encoder=OneHotEncoder()\n",
    "\n",
    "df_train_cat_tr = cat_encoder.fit_transform(df_train_cat)\n",
    "df_train_cat_tr.shape"
   ]
  },
  {
   "cell_type": "code",
   "execution_count": 20,
   "metadata": {
    "colab": {},
    "colab_type": "code",
    "id": "5vVfIO_A5I3c"
   },
   "outputs": [],
   "source": [
    "from sklearn.compose import ColumnTransformer \n",
    "\n",
    "date_attribs =[\"PatientId\",\"AppointmentID\",'ScheduledDay','AppointmentDay']\n",
    "num_attribs = [\"Age\"]\n",
    "cat_attribs = ['Handcap','Neighbourhood']\n",
    "binary_attribs=['SMS_received','Hipertension','Diabetes','Alcoholism','SMS_received','Gender','Scholarship']\n",
    "     \n",
    "full_pipeline = ColumnTransformer([\n",
    "    (\"date.time\", date_pipeline, date_attribs), #14\n",
    "    (\"num_cols\", num_pipeline, num_attribs),    # 1\n",
    "    (\"binary_cols\",OneHotEncoder(drop=\"first\"),binary_attribs),#7\n",
    "    (\"cat_cols\", OneHotEncoder(), cat_attribs), #86 (81+5)\n",
    "])\n",
    "# for second attempt i opened std scaler and ran"
   ]
  },
  {
   "cell_type": "code",
   "execution_count": 21,
   "metadata": {
    "colab": {},
    "colab_type": "code",
    "id": "nJ9l-AzK5qTZ"
   },
   "outputs": [],
   "source": [
    "# for second attempt i opened std scaler\n",
    "X_train = train_set.drop([\"No-show\"],axis=1).copy()\n",
    "y_train = train_set[\"No-show\"].copy()\n",
    "\n",
    "X_valid = valid_set.drop([\"No-show\"],axis=1).copy()\n",
    "y_valid = valid_set[\"No-show\"].copy()"
   ]
  },
  {
   "cell_type": "code",
   "execution_count": 22,
   "metadata": {
    "colab": {
     "base_uri": "https://localhost:8080/",
     "height": 34
    },
    "colab_type": "code",
    "id": "RNHyHpkZ5svO",
    "outputId": "a205d518-e5ca-406e-f32b-7861be3fb86c"
   },
   "outputs": [
    {
     "data": {
      "text/plain": [
       "((79592, 108), (19898, 108))"
      ]
     },
     "execution_count": 22,
     "metadata": {},
     "output_type": "execute_result"
    }
   ],
   "source": [
    "X_train_prepared = full_pipeline.fit_transform(X_train)\n",
    "X_valid_prepared = full_pipeline.transform(X_valid)\n",
    "\n",
    "X_train_prepared.shape, X_valid_prepared.shape"
   ]
  },
  {
   "cell_type": "code",
   "execution_count": 23,
   "metadata": {
    "colab": {
     "base_uri": "https://localhost:8080/",
     "height": 68
    },
    "colab_type": "code",
    "id": "BTgPov_Pu50S",
    "outputId": "07330ca9-b14a-445b-c6c3-cd5eef020b59"
   },
   "outputs": [
    {
     "name": "stdout",
     "output_type": "stream",
     "text": [
      "roc-auc:   [0.66402629 0.65948565 0.65321063 0.66235604 0.6663374  0.65841416\n",
      " 0.64937701 0.68455167 0.6563332  0.67042076]\n"
     ]
    },
    {
     "data": {
      "text/plain": [
       "0.6730063249783274"
      ]
     },
     "execution_count": 23,
     "metadata": {},
     "output_type": "execute_result"
    }
   ],
   "source": [
    "from sklearn.linear_model import LogisticRegression\n",
    "log_reg = LogisticRegression(random_state=0,max_iter=1000)\n",
    "log_reg.fit(X_train_prepared, y_train)\n",
    "\n",
    "from sklearn.model_selection import cross_val_score\n",
    "scores = cross_val_score(log_reg, X_train_prepared, y_train,scoring=\"roc_auc\", cv=10)\n",
    "print(\"roc-auc:  \",scores)\n",
    "\n",
    "from sklearn.metrics import roc_auc_score\n",
    "y_pred=log_reg.predict_proba(X_valid_prepared)[:,1]\n",
    "y_true=y_valid\n",
    "\n",
    "roc_auc_score(y_true,y_pred)"
   ]
  },
  {
   "cell_type": "markdown",
   "metadata": {},
   "source": [
    "### I felt it could have been imbalanced data, so tried diff class weights too"
   ]
  },
  {
   "cell_type": "code",
   "execution_count": 28,
   "metadata": {
    "colab": {
     "base_uri": "https://localhost:8080/",
     "height": 68
    },
    "colab_type": "code",
    "id": "QahZTFS27WIV",
    "outputId": "69b907ae-8231-4895-c3ad-46479644f34d"
   },
   "outputs": [
    {
     "name": "stdout",
     "output_type": "stream",
     "text": [
      "roc-auc:   [0.66525653 0.66051445 0.65559921 0.66226548 0.66638912 0.66002614\n",
      " 0.65000487 0.68524213 0.65869118 0.67074579]\n"
     ]
    },
    {
     "data": {
      "text/plain": [
       "0.636112193756763"
      ]
     },
     "execution_count": 28,
     "metadata": {
      "tags": []
     },
     "output_type": "execute_result"
    }
   ],
   "source": [
    "from sklearn.linear_model import LogisticRegression\n",
    "log_reg = LogisticRegression(random_state=0, class_weight=\"balanced\",max_iter=1000)\n",
    "log_reg.fit(X_train_prepared, y_train)\n",
    "\n",
    "from sklearn.model_selection import cross_val_score\n",
    "scores = cross_val_score(log_reg, X_train_prepared, y_train,scoring=\"roc_auc\", cv=10)\n",
    "print(\"roc-auc:  \",scores)\n",
    "\n",
    "from sklearn.metrics import roc_auc_score\n",
    "y_pred=log_reg.predict_proba(X_valid_prepared)[:,1]\n",
    "y_true=y_valid\n",
    "\n",
    "roc_auc_score(y_true,y_pred)"
   ]
  },
  {
   "cell_type": "code",
   "execution_count": 47,
   "metadata": {
    "colab": {
     "base_uri": "https://localhost:8080/",
     "height": 51
    },
    "colab_type": "code",
    "id": "NNehxxsSXM0E",
    "outputId": "44d910e6-510f-4bcf-d597-e0a1e8f9af03"
   },
   "outputs": [
    {
     "name": "stdout",
     "output_type": "stream",
     "text": [
      "roc-auc:   [0.7252639  0.72815362 0.7306993 ]\n"
     ]
    },
    {
     "data": {
      "text/plain": [
       "0.7385207164661156"
      ]
     },
     "execution_count": 47,
     "metadata": {
      "tags": []
     },
     "output_type": "execute_result"
    }
   ],
   "source": [
    "from sklearn.ensemble import RandomForestClassifier\n",
    "rf_clf=RandomForestClassifier()\n",
    "\n",
    "rf_clf.fit(X_train_prepared, y_train)\n",
    "\n",
    "from sklearn.model_selection import cross_val_score\n",
    "scores = cross_val_score(rf_clf, X_train_prepared, y_train,scoring=\"roc_auc\", cv=3)\n",
    "print(\"roc-auc:  \",scores)\n",
    "\n",
    "from sklearn.metrics import roc_auc_score\n",
    "y_pred=rf_clf.predict_proba(X_valid_prepared)[:,1]\n",
    "y_true=y_valid\n",
    "\n",
    "roc_auc_score(y_true,y_pred)"
   ]
  },
  {
   "cell_type": "code",
   "execution_count": 51,
   "metadata": {
    "colab": {
     "base_uri": "https://localhost:8080/",
     "height": 397
    },
    "colab_type": "code",
    "id": "0_jB_Ys2g21O",
    "outputId": "64a0bb9d-ede2-4bfa-dfdf-2d03a5b24ab8"
   },
   "outputs": [
    {
     "data": {
      "image/png": "[encoded data removed]",
      "text/plain": [
       "<Figure size 576x432 with 1 Axes>"
      ]
     },
     "metadata": {
      "needs_background": "light",
      "tags": []
     },
     "output_type": "display_data"
    }
   ],
   "source": [
    "from sklearn.metrics import roc_curve\n",
    "fpr, tpr, thresholds = roc_curve(y_valid, y_pred)\n",
    "\n",
    "\n",
    "def plot_roc_curve(fpr, tpr, label=None):\n",
    "    plt.plot(fpr, tpr, linewidth=2, label=label)\n",
    "    plt.plot([0, 1], [0, 1], 'k--') # dashed diagonal\n",
    "    plt.axis([0, 1, 0, 1])                                    \n",
    "    plt.xlabel('False Positive Rate (Fall-Out)', fontsize=16) \n",
    "    plt.ylabel('True Positive Rate (Recall)', fontsize=16)    \n",
    "    plt.grid(True)                                            \n",
    "\n",
    "plt.figure(figsize=(8, 6))                         \n",
    "plot_roc_curve(fpr, tpr)\n",
    "plt.plot([4.837e-3, 4.837e-3], [0., 0.4368], \"r:\") \n",
    "plt.plot([0.0, 4.837e-3], [0.4368, 0.4368], \"r:\")                           \n",
    "plt.show()"
   ]
  },
  {
   "cell_type": "code",
   "execution_count": 42,
   "metadata": {
    "colab": {
     "base_uri": "https://localhost:8080/",
     "height": 51
    },
    "colab_type": "code",
    "id": "PJvNuF_R5w83",
    "outputId": "38ab180c-74c5-4275-fd08-be872ae70a37"
   },
   "outputs": [
    {
     "name": "stdout",
     "output_type": "stream",
     "text": [
      "roc-auc:   [0.72396271 0.72993727 0.73261047]\n"
     ]
    },
    {
     "data": {
      "text/plain": [
       "0.7382216300092952"
      ]
     },
     "execution_count": 42,
     "metadata": {
      "tags": []
     },
     "output_type": "execute_result"
    }
   ],
   "source": [
    "from sklearn.ensemble import RandomForestClassifier\n",
    "rf_clf=RandomForestClassifier(class_weight=\"balanced\")\n",
    "\n",
    "rf_clf.fit(X_train_prepared, y_train)\n",
    "\n",
    "from sklearn.model_selection import cross_val_score\n",
    "scores = cross_val_score(rf_clf, X_train_prepared, y_train,scoring=\"roc_auc\", cv=3)\n",
    "print(\"roc-auc:  \",scores)\n",
    "\n",
    "from sklearn.metrics import roc_auc_score\n",
    "y_pred=rf_clf.predict_proba(X_valid_prepared)[:,1]\n",
    "y_true=y_valid\n",
    "\n",
    "roc_auc_score(y_true,y_pred)"
   ]
  },
  {
   "cell_type": "code",
   "execution_count": 34,
   "metadata": {
    "colab": {
     "base_uri": "https://localhost:8080/",
     "height": 51
    },
    "colab_type": "code",
    "id": "WjMjPyxXBM_G",
    "outputId": "70899e39-94b5-47ec-8e8a-8821e7b8af26"
   },
   "outputs": [
    {
     "name": "stdout",
     "output_type": "stream",
     "text": [
      "roc-auc:   [0.70451044 0.70218597 0.70589894]\n"
     ]
    },
    {
     "data": {
      "text/plain": [
       "0.7145744619379006"
      ]
     },
     "execution_count": 34,
     "metadata": {
      "tags": []
     },
     "output_type": "execute_result"
    }
   ],
   "source": [
    "# for second attempt i opened std scaler\n",
    "\n",
    "xgb_clf=XGBClassifier()\n",
    "\n",
    "xgb_clf.fit(X_train_prepared, y_train)\n",
    "\n",
    "from sklearn.model_selection import cross_val_score\n",
    "scores = cross_val_score(xgb_clf, X_train_prepared, y_train,scoring=\"roc_auc\", cv=3)\n",
    "print(\"roc-auc:  \",scores)\n",
    "\n",
    "from sklearn.metrics import roc_auc_score\n",
    "y_pred=xgb_clf.predict_proba(X_valid_prepared)[:,1]\n",
    "y_true=y_valid\n",
    "\n",
    "roc_auc_score(y_true,y_pred)"
   ]
  },
  {
   "cell_type": "code",
   "execution_count": 45,
   "metadata": {
    "colab": {
     "base_uri": "https://localhost:8080/",
     "height": 51
    },
    "colab_type": "code",
    "id": "ENmGERwX6wnJ",
    "outputId": "03a174c3-0272-416d-f6a8-3e8255d78821"
   },
   "outputs": [
    {
     "name": "stdout",
     "output_type": "stream",
     "text": [
      "roc-auc:   [0.70047535 0.69858908 0.70218842]\n"
     ]
    },
    {
     "data": {
      "text/plain": [
       "0.7077574317133246"
      ]
     },
     "execution_count": 45,
     "metadata": {
      "tags": []
     },
     "output_type": "execute_result"
    }
   ],
   "source": [
    "xgb_clf=XGBClassifier(scale_pos_weight=100)\n",
    "\n",
    "xgb_clf.fit(X_train_prepared, y_train)\n",
    "\n",
    "from sklearn.model_selection import cross_val_score\n",
    "scores = cross_val_score(xgb_clf, X_train_prepared, y_train,scoring=\"roc_auc\", cv=3)\n",
    "print(\"roc-auc:  \",scores)\n",
    "\n",
    "from sklearn.metrics import roc_auc_score\n",
    "y_pred=xgb_clf.predict_proba(X_valid_prepared)[:,1]\n",
    "y_true=y_valid\n",
    "\n",
    "roc_auc_score(y_true,y_pred)"
   ]
  },
  {
   "cell_type": "markdown",
   "metadata": {
    "colab_type": "text",
    "id": "9IkpGytniOF1"
   },
   "source": [
    "### RandomForest has the best score"
   ]
  },
  {
   "cell_type": "markdown",
   "metadata": {
    "colab_type": "text",
    "id": "SUw2dJGcxSG-"
   },
   "source": [
    "I have attempted fine tune but it takes lot of time, and sincemy target is 0.66 i dropped the idea of Grid Search or Randomized Search"
   ]
  },
  {
   "cell_type": "markdown",
   "metadata": {
    "colab_type": "text",
    "id": "PKPloDfdxkh6"
   },
   "source": [
    "## Randomforest on Full train"
   ]
  },
  {
   "cell_type": "code",
   "execution_count": 24,
   "metadata": {
    "colab": {},
    "colab_type": "code",
    "id": "AsCL1jLRxjm4"
   },
   "outputs": [],
   "source": [
    "# for second attempt i opened std scaler\n",
    "X_train_full = df_train.drop([\"No-show\"],axis=1).copy()\n",
    "y_train_full = df_train[\"No-show\"].copy()\n",
    "\n",
    "X_test = df_test.copy()\n"
   ]
  },
  {
   "cell_type": "code",
   "execution_count": 25,
   "metadata": {
    "colab": {
     "base_uri": "https://localhost:8080/",
     "height": 34
    },
    "colab_type": "code",
    "id": "vFfSBEtQxRF7",
    "outputId": "b7edd45d-baec-434e-bc5f-5024a24132bb"
   },
   "outputs": [
    {
     "data": {
      "text/plain": [
       "((99490, 108), (11037, 108))"
      ]
     },
     "execution_count": 25,
     "metadata": {},
     "output_type": "execute_result"
    }
   ],
   "source": [
    "X_train_full_prepared = full_pipeline.fit_transform(X_train_full)\n",
    "X_test_prepared = full_pipeline.transform(X_test)\n",
    "\n",
    "X_train_full_prepared.shape, X_test_prepared.shape"
   ]
  },
  {
   "cell_type": "code",
   "execution_count": 26,
   "metadata": {
    "colab": {},
    "colab_type": "code",
    "id": "MbgjbLrBLH1q"
   },
   "outputs": [
    {
     "name": "stdout",
     "output_type": "stream",
     "text": [
      "roc-auc:   [0.6610097  0.68438848 0.73103901 0.69549165 0.69426882 0.67942199\n",
      " 0.64236451 0.69136904 0.70093939 0.71404435]\n"
     ]
    }
   ],
   "source": [
    "from sklearn.ensemble import RandomForestClassifier\n",
    "final_rf_clf=RandomForestClassifier()\n",
    "\n",
    "final_rf_clf.fit(X_train_full_prepared, y_train_full)\n",
    "\n",
    "from sklearn.model_selection import cross_val_score\n",
    "scores = cross_val_score(final_rf_clf, X_train_full_prepared, y_train_full, scoring=\"roc_auc\", cv=10)\n",
    "print(\"roc-auc:  \",scores)\n"
   ]
  },
  {
   "cell_type": "code",
   "execution_count": 28,
   "metadata": {
    "colab": {},
    "colab_type": "code",
    "id": "mVSMngx_4kxI"
   },
   "outputs": [],
   "source": [
    "y_test_pred=final_rf_clf.predict_proba(X_test_prepared)[:,1]"
   ]
  },
  {
   "cell_type": "code",
   "execution_count": 31,
   "metadata": {
    "colab": {},
    "colab_type": "code",
    "id": "Bv-BR5deLH-G"
   },
   "outputs": [],
   "source": [
    "mysubmission=test[[\"PatientId\"]].copy()\n",
    "mysubmission[\"No-show\"]=y_test_pred\n",
    "pd.DataFrame(mysubmission).to_csv(\"Submi_P6_EdvPy_KSV_S01.csv\",index=False)"
   ]
  },
  {
   "cell_type": "code",
   "execution_count": null,
   "metadata": {},
   "outputs": [],
   "source": []
  }
 ],
 "metadata": {
  "accelerator": "GPU",
  "colab": {
   "name": "Proj6_EdvPy_Code.ipynb",
   "provenance": []
  },
  "kernelspec": {
   "display_name": "Python 3",
   "language": "python",
   "name": "python3"
  },
  "language_info": {
   "codemirror_mode": {
    "name": "ipython",
    "version": 3
   },
   "file_extension": ".py",
   "mimetype": "text/x-python",
   "name": "python",
   "nbconvert_exporter": "python",
   "pygments_lexer": "ipython3",
   "version": "3.7.4"
  }
 },
 "nbformat": 4,
 "nbformat_minor": 1
}
