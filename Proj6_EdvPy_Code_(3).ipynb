{
  "nbformat": 4,
  "nbformat_minor": 0,
  "metadata": {
    "accelerator": "GPU",
    "colab": {
      "name": "Proj6_EdvPy_Code (3).ipynb",
      "provenance": []
    },
    "kernelspec": {
      "display_name": "Python 3",
      "language": "python",
      "name": "python3"
    },
    "language_info": {
      "codemirror_mode": {
        "name": "ipython",
        "version": 3
      },
      "file_extension": ".py",
      "mimetype": "text/x-python",
      "name": "python",
      "nbconvert_exporter": "python",
      "pygments_lexer": "ipython3",
      "version": "3.7.4"
    }
  },
  "cells": [
    {
      "cell_type": "markdown",
      "metadata": {
        "id": "U8JgrePyBScm",
        "colab_type": "text"
      },
      "source": [
        "## Predict No Shows for Medical Appointments"
      ]
    },
    {
      "cell_type": "code",
      "metadata": {
        "colab_type": "code",
        "id": "5YoylIuP0HKs",
        "colab": {}
      },
      "source": [
        "# Python ≥3.5 is required\n",
        "import sys\n",
        "assert sys.version_info >= (3, 5)\n",
        "\n",
        "# Common imports for data\n",
        "import numpy as np\n",
        "import pandas as pd\n",
        "import os\n",
        "\n",
        "# for metrics, preprocessing\n",
        "import sklearn\n",
        "\n",
        "\n",
        "# models\n",
        "from sklearn.ensemble import RandomForestClassifier\n",
        "from sklearn.ensemble import GradientBoostingClassifier\n",
        "from xgboost.sklearn import XGBClassifier\n",
        "from sklearn.model_selection import RandomizedSearchCV\n",
        "\n",
        "# to make this notebook's output stable across runs\n",
        "np.random.seed(42)\n",
        "\n",
        "# To plot \n",
        "%matplotlib inline\n",
        "import matplotlib as mpl\n",
        "import matplotlib.pyplot as plt\n"
      ],
      "execution_count": 4,
      "outputs": []
    },
    {
      "cell_type": "code",
      "metadata": {
        "colab_type": "code",
        "id": "gxpUaiCtPeaE",
        "colab": {
          "base_uri": "https://localhost:8080/",
          "height": 119
        },
        "outputId": "81e5d57a-9e35-4695-aeed-81d29212bc7d"
      },
      "source": [
        "from google.colab import drive\n",
        "drive.mount(\"/content/gdrive\")\n",
        "#download the data\n",
        "os.chdir('/content/gdrive/My Drive/Data_Edv_P_P6/')\n",
        "os.listdir()"
      ],
      "execution_count": 5,
      "outputs": [
        {
          "output_type": "stream",
          "text": [
            "Drive already mounted at /content/gdrive; to attempt to forcibly remount, call drive.mount(\"/content/gdrive\", force_remount=True).\n"
          ],
          "name": "stdout"
        },
        {
          "output_type": "execute_result",
          "data": {
            "text/plain": [
              "['Submi_P6_EdvPy_KSV_Colab_S02.csv',\n",
              " 'test_share.csv',\n",
              " 'train.csv',\n",
              " 'medical_history.csv',\n",
              " 'demographic_details.csv']"
            ]
          },
          "metadata": {
            "tags": []
          },
          "execution_count": 5
        }
      ]
    },
    {
      "cell_type": "markdown",
      "metadata": {
        "id": "IG7bSnYYBtlE",
        "colab_type": "text"
      },
      "source": [
        "### when doing from desktop\n",
        "import os\n",
        "os.getcwd()\n",
        "os.chdir('/Users/vivekkathula/Documents/Edv py projects/P6/')\n",
        "os.listdir()"
      ]
    },
    {
      "cell_type": "code",
      "metadata": {
        "colab_type": "code",
        "id": "RO8cLaeU1a6L",
        "colab": {}
      },
      "source": [
        ""
      ],
      "execution_count": 5,
      "outputs": []
    },
    {
      "cell_type": "code",
      "metadata": {
        "colab_type": "code",
        "id": "qTMAM7762OjG",
        "colab": {}
      },
      "source": [
        "train = pd.read_csv(\"train.csv\")\n",
        "test =pd.read_csv(\"test_share.csv\")\n",
        "medical = pd.read_csv(\"medical_history.csv\")\n",
        "demographic=pd.read_csv(\"demographic_details.csv\")"
      ],
      "execution_count": 6,
      "outputs": []
    },
    {
      "cell_type": "code",
      "metadata": {
        "colab_type": "code",
        "id": "tIwjJfcf2fkK",
        "colab": {}
      },
      "source": [
        "df_1=pd.merge(train,medical,on=['PatientId'],how='inner').copy()\n",
        "df_train=pd.merge(df_1,demographic,on=['PatientId'],how='inner').copy()"
      ],
      "execution_count": 7,
      "outputs": []
    },
    {
      "cell_type": "code",
      "metadata": {
        "colab_type": "code",
        "id": "pMlZK7782o4L",
        "colab": {}
      },
      "source": [
        "df_2=pd.merge(test,medical,on=['PatientId'],how='inner').copy()\n",
        "df_test=pd.merge(df_2,demographic,on=['PatientId'],how='inner').copy()"
      ],
      "execution_count": 8,
      "outputs": []
    },
    {
      "cell_type": "code",
      "metadata": {
        "id": "8TdM8myDMz_R",
        "colab_type": "code",
        "colab": {
          "base_uri": "https://localhost:8080/",
          "height": 34
        },
        "outputId": "6207b3a7-caff-490b-f9cb-c7452cb83736"
      },
      "source": [
        "df_train.shape, df_test.shape"
      ],
      "execution_count": 9,
      "outputs": [
        {
          "output_type": "execute_result",
          "data": {
            "text/plain": [
              "((99490, 14), (10854, 13))"
            ]
          },
          "metadata": {
            "tags": []
          },
          "execution_count": 9
        }
      ]
    },
    {
      "cell_type": "code",
      "metadata": {
        "id": "gekwYH5xM7dM",
        "colab_type": "code",
        "colab": {
          "base_uri": "https://localhost:8080/",
          "height": 182
        },
        "outputId": "b7b9b81b-ddde-49cb-b03f-c7d9bdd5caa5"
      },
      "source": [
        "df_train.head(2)"
      ],
      "execution_count": 10,
      "outputs": [
        {
          "output_type": "execute_result",
          "data": {
            "text/html": [
              "<div>\n",
              "<style scoped>\n",
              "    .dataframe tbody tr th:only-of-type {\n",
              "        vertical-align: middle;\n",
              "    }\n",
              "\n",
              "    .dataframe tbody tr th {\n",
              "        vertical-align: top;\n",
              "    }\n",
              "\n",
              "    .dataframe thead th {\n",
              "        text-align: right;\n",
              "    }\n",
              "</style>\n",
              "<table border=\"1\" class=\"dataframe\">\n",
              "  <thead>\n",
              "    <tr style=\"text-align: right;\">\n",
              "      <th></th>\n",
              "      <th>PatientId</th>\n",
              "      <th>AppointmentID</th>\n",
              "      <th>ScheduledDay</th>\n",
              "      <th>AppointmentDay</th>\n",
              "      <th>SMS_received</th>\n",
              "      <th>No-show</th>\n",
              "      <th>Hipertension</th>\n",
              "      <th>Diabetes</th>\n",
              "      <th>Alcoholism</th>\n",
              "      <th>Handcap</th>\n",
              "      <th>Gender</th>\n",
              "      <th>Age</th>\n",
              "      <th>Neighbourhood</th>\n",
              "      <th>Scholarship</th>\n",
              "    </tr>\n",
              "  </thead>\n",
              "  <tbody>\n",
              "    <tr>\n",
              "      <th>0</th>\n",
              "      <td>2.987250e+13</td>\n",
              "      <td>5642903</td>\n",
              "      <td>2016-04-29T18:38:08Z</td>\n",
              "      <td>2016-04-29T00:00:00Z</td>\n",
              "      <td>0</td>\n",
              "      <td>No</td>\n",
              "      <td>1</td>\n",
              "      <td>0</td>\n",
              "      <td>0</td>\n",
              "      <td>0</td>\n",
              "      <td>F</td>\n",
              "      <td>62</td>\n",
              "      <td>JARDIM DA PENHA</td>\n",
              "      <td>0</td>\n",
              "    </tr>\n",
              "    <tr>\n",
              "      <th>1</th>\n",
              "      <td>2.987250e+13</td>\n",
              "      <td>5639907</td>\n",
              "      <td>2016-04-29T09:47:47Z</td>\n",
              "      <td>2016-04-29T00:00:00Z</td>\n",
              "      <td>0</td>\n",
              "      <td>No</td>\n",
              "      <td>1</td>\n",
              "      <td>0</td>\n",
              "      <td>0</td>\n",
              "      <td>0</td>\n",
              "      <td>F</td>\n",
              "      <td>62</td>\n",
              "      <td>JARDIM DA PENHA</td>\n",
              "      <td>0</td>\n",
              "    </tr>\n",
              "  </tbody>\n",
              "</table>\n",
              "</div>"
            ],
            "text/plain": [
              "      PatientId  AppointmentID  ...    Neighbourhood Scholarship\n",
              "0  2.987250e+13        5642903  ...  JARDIM DA PENHA           0\n",
              "1  2.987250e+13        5639907  ...  JARDIM DA PENHA           0\n",
              "\n",
              "[2 rows x 14 columns]"
            ]
          },
          "metadata": {
            "tags": []
          },
          "execution_count": 10
        }
      ]
    },
    {
      "cell_type": "code",
      "metadata": {
        "colab_type": "code",
        "id": "gQqZ0tRG2sTo",
        "colab": {}
      },
      "source": [
        "num_cols = ['Age']\n",
        "cat_cols = ['Handcap','Neighbourhood']\n",
        "binary_cols = ['SMS_received','Hipertension','Diabetes','Alcoholism','SMS_received','Gender','Scholarship']\n",
        "date_cols =['ScheduledDay','AppointmentDay']"
      ],
      "execution_count": 11,
      "outputs": []
    },
    {
      "cell_type": "markdown",
      "metadata": {
        "colab_type": "text",
        "id": "1ue4tmm43vfN"
      },
      "source": [
        "## Create Valid Set"
      ]
    },
    {
      "cell_type": "code",
      "metadata": {
        "colab_type": "code",
        "id": "-FNjULk52wwv",
        "colab": {}
      },
      "source": [
        "df_train['No-show']=np.where(df_train['No-show']=='Yes',1,0)"
      ],
      "execution_count": 12,
      "outputs": []
    },
    {
      "cell_type": "code",
      "metadata": {
        "colab_type": "code",
        "id": "xH4z3JX63ptk",
        "colab": {}
      },
      "source": [
        "# stratified split is what i prefer but there are cats that came only once in train\n",
        "#from sklearn.model_selection import train_test_split\n",
        "#train_set, valid_set = train_test_split(df_train, test_size=0.2, random_state=42)\n",
        "train_set=df_train.copy()"
      ],
      "execution_count": 13,
      "outputs": []
    },
    {
      "cell_type": "markdown",
      "metadata": {
        "colab_type": "text",
        "id": "NvxEnYPI338C"
      },
      "source": [
        "## Custom Tranformers"
      ]
    },
    {
      "cell_type": "code",
      "metadata": {
        "colab_type": "code",
        "id": "QhE_E60i354n",
        "colab": {
          "base_uri": "https://localhost:8080/",
          "height": 34
        },
        "outputId": "79e3234a-157e-4878-a01f-6ca34054823f"
      },
      "source": [
        "from sklearn.base import BaseEstimator, TransformerMixin\n",
        "\n",
        "ScheduledDay_ix, AppointmentDay_ix, = 2,3\n",
        "\n",
        "class CombinedAttributesAdder(BaseEstimator, TransformerMixin):\n",
        "    def __init__(self, add_Adow_sin = True): # no *args or **kargs\n",
        "        self.add_Adow_sin = add_Adow_sin\n",
        "        \n",
        "    def fit(self, X, y=None):\n",
        "        return self # nothing else to do \n",
        "    \n",
        "    def transform(self, X):\n",
        "        #Sdate = pd.to_datetime(X[\"ScheduledDay\"], format='%Y-%m-%dT%H:%M:%SZ')\n",
        "        #Adate = pd.to_datetime(X[\"AppointmentDay\"], format='%Y-%m-%dT%H:%M:%SZ')\n",
        "        Sdate = pd.to_datetime(X[:,2], format='%Y-%m-%dT%H:%M:%SZ')\n",
        "        Adate = pd.to_datetime(X[:,3], format='%Y-%m-%dT%H:%M:%SZ')\n",
        "        \n",
        "        A_day=Adate.day\n",
        "        A_dofweek=Adate.dayofweek\n",
        "        A_month=Adate.month\n",
        "        \n",
        "        S_hr=Sdate.hour\n",
        "        S_day=Sdate.day\n",
        "        S_dofweek=Sdate.dayofweek\n",
        "        S_month=Sdate.month\n",
        "        \n",
        "        sin_S_hr = np.sin(2 * np.pi * (S_hr-S_hr.min())/(S_hr.max()-S_hr.min()))\n",
        "        cos_S_hr = np.cos(2 * np.pi * (S_hr-S_hr.min())/(S_hr.max()-S_hr.min()))\n",
        "        \n",
        "        sin_S_day = np.sin(2 * np.pi * (S_day-S_day.min())/(S_day.max()-S_day.min()))\n",
        "        cos_S_day = np.cos(2 * np.pi * (S_day-S_day.min())/(S_day.max()-S_day.min()))\n",
        "        \n",
        "        sin_S_dofweek=np.sin(2 * np.pi * (S_dofweek-S_dofweek.min())/(S_dofweek.max()-S_dofweek.min()))\n",
        "        cos_S_dofweek=np.cos(2 * np.pi * (S_dofweek-S_dofweek.min())/(S_dofweek.max()-S_dofweek.min()))\n",
        "        \n",
        "        sin_S_month = np.sin(2 * np.pi * (S_month-S_month.min())/(S_month.max()-S_month.min()))\n",
        "        cos_S_month = np.cos(2 * np.pi * (S_month-S_month.min())/(S_month.max()-S_month.min()))\n",
        "        \n",
        "        sin_A_day= np.sin(2 * np.pi * (A_day-A_day.min())/(A_day.max()-A_day.min()))\n",
        "        cos_A_day= np.sin(2 * np.pi * (A_day-A_day.min())/(A_day.max()-A_day.min()))\n",
        "        \n",
        "        sin_A_dofweek = np.sin(2 * np.pi * (A_dofweek-S_dofweek.min())/(A_dofweek.max()-A_dofweek.min()))\n",
        "        cos_A_dofweek = np.cos(2 * np.pi * (A_dofweek-S_dofweek.min())/(A_dofweek.max()-A_dofweek.min()))\n",
        "        \n",
        "        sin_A_month = np.sin(2 * np.pi * (A_month-A_month.min())/(A_month.max()-A_month.min()))\n",
        "        cos_A_month = np.cos(2 * np.pi * (A_month-A_month.min())/(A_month.max()-A_month.min()))\n",
        "        \n",
        "        return np.c_[sin_S_hr, sin_S_hr, sin_S_day, cos_S_day,sin_S_dofweek,cos_S_dofweek,\n",
        "                     sin_S_month,cos_S_month,sin_A_day,cos_A_day,sin_A_dofweek,cos_A_dofweek,                    \n",
        "                     sin_A_month,cos_A_month]\n",
        "\n",
        "attr_adder = CombinedAttributesAdder()\n",
        "data_extra_attribs = attr_adder.transform(train_set.values)\n",
        "data_extra_attribs.shape"
      ],
      "execution_count": 14,
      "outputs": [
        {
          "output_type": "execute_result",
          "data": {
            "text/plain": [
              "(99490, 14)"
            ]
          },
          "metadata": {
            "tags": []
          },
          "execution_count": 14
        }
      ]
    },
    {
      "cell_type": "markdown",
      "metadata": {
        "colab_type": "text",
        "id": "iZ5pw1xM4FaJ"
      },
      "source": [
        "## Transformation Pipeline"
      ]
    },
    {
      "cell_type": "code",
      "metadata": {
        "colab_type": "code",
        "id": "-LQxoDx94EJG",
        "colab": {
          "base_uri": "https://localhost:8080/",
          "height": 34
        },
        "outputId": "759e6a26-6dab-4cc3-b236-6e3943368dcd"
      },
      "source": [
        "# date cols\n",
        "# for second attempt i opened std scaler\n",
        "from sklearn.impute import SimpleImputer\n",
        "from sklearn.pipeline import Pipeline\n",
        "from sklearn.preprocessing import StandardScaler\n",
        "\n",
        "date_cols=[\"PatientId\",\"AppointmentID\",\"ScheduledDay\",\"AppointmentDay\"]\n",
        "df_train_dates=train_set[date_cols].copy()\n",
        "\n",
        "date_pipeline = Pipeline([            \n",
        "    ('imputer', SimpleImputer(strategy=\"most_frequent\")),\n",
        "    ('attribs_adder', CombinedAttributesAdder()),\n",
        "    ('std_scaler', StandardScaler()),\n",
        "])\n",
        "\n",
        "df_train_dates_tr = date_pipeline.fit_transform(df_train_dates)\n",
        "df_train_dates_tr.shape"
      ],
      "execution_count": 15,
      "outputs": [
        {
          "output_type": "execute_result",
          "data": {
            "text/plain": [
              "(99490, 14)"
            ]
          },
          "metadata": {
            "tags": []
          },
          "execution_count": 15
        }
      ]
    },
    {
      "cell_type": "code",
      "metadata": {
        "colab_type": "code",
        "id": "DYFrAhkX37Sg",
        "colab": {
          "base_uri": "https://localhost:8080/",
          "height": 34
        },
        "outputId": "7f1364c1-d2ae-4aa8-8e6d-09de064d2275"
      },
      "source": [
        "# numcols\n",
        "from sklearn.impute import SimpleImputer\n",
        "from sklearn.pipeline import Pipeline\n",
        "from sklearn.preprocessing import StandardScaler\n",
        "\n",
        "num_cols=[\"Age\"]\n",
        "df_train_num=train_set[num_cols].copy()\n",
        "\n",
        "num_pipeline = Pipeline([            \n",
        "    ('imputer', SimpleImputer(strategy=\"most_frequent\")),\n",
        "    ('std_scaler', StandardScaler()),\n",
        "])\n",
        "\n",
        "df_train_num_tr = num_pipeline.fit_transform(df_train_num)\n",
        "df_train_num_tr.shape"
      ],
      "execution_count": 16,
      "outputs": [
        {
          "output_type": "execute_result",
          "data": {
            "text/plain": [
              "(99490, 1)"
            ]
          },
          "metadata": {
            "tags": []
          },
          "execution_count": 16
        }
      ]
    },
    {
      "cell_type": "code",
      "metadata": {
        "colab_type": "code",
        "id": "CryZU7Wf5Ke1",
        "colab": {
          "base_uri": "https://localhost:8080/",
          "height": 34
        },
        "outputId": "5b4a478e-a03c-41fb-f111-06851ca7a1f0"
      },
      "source": [
        "#Binarycols\n",
        "df_train_bin=train_set[binary_cols].copy()\n",
        "from sklearn.preprocessing import OneHotEncoder\n",
        "cat_encoder=OneHotEncoder(drop=\"first\")\n",
        "\n",
        "df_train_bin_tr = cat_encoder.fit_transform(df_train_bin)\n",
        "df_train_bin_tr.shape"
      ],
      "execution_count": 17,
      "outputs": [
        {
          "output_type": "execute_result",
          "data": {
            "text/plain": [
              "(99490, 7)"
            ]
          },
          "metadata": {
            "tags": []
          },
          "execution_count": 17
        }
      ]
    },
    {
      "cell_type": "code",
      "metadata": {
        "colab_type": "code",
        "id": "PKH2l-SZ4cgt",
        "colab": {
          "base_uri": "https://localhost:8080/",
          "height": 34
        },
        "outputId": "9a44f9ab-acce-4972-e42a-36c9f82a5eed"
      },
      "source": [
        "#catcols, not binary\n",
        "df_train_cat=train_set[cat_cols].copy()\n",
        "from sklearn.preprocessing import OneHotEncoder\n",
        "cat_encoder=OneHotEncoder()\n",
        "\n",
        "df_train_cat_tr = cat_encoder.fit_transform(df_train_cat)\n",
        "df_train_cat_tr.shape"
      ],
      "execution_count": 18,
      "outputs": [
        {
          "output_type": "execute_result",
          "data": {
            "text/plain": [
              "(99490, 86)"
            ]
          },
          "metadata": {
            "tags": []
          },
          "execution_count": 18
        }
      ]
    },
    {
      "cell_type": "code",
      "metadata": {
        "colab_type": "code",
        "id": "5vVfIO_A5I3c",
        "colab": {}
      },
      "source": [
        "from sklearn.compose import ColumnTransformer \n",
        "\n",
        "date_attribs =[\"PatientId\",\"AppointmentID\",'ScheduledDay','AppointmentDay']\n",
        "num_attribs = [\"Age\"]\n",
        "cat_attribs = ['Handcap','Neighbourhood']\n",
        "binary_attribs=['SMS_received','Hipertension','Diabetes','Alcoholism','SMS_received','Gender','Scholarship']\n",
        "     \n",
        "full_pipeline = ColumnTransformer([\n",
        "    (\"date.time\", date_pipeline, date_attribs), #14\n",
        "    (\"num_cols\", num_pipeline, num_attribs),    # 1\n",
        "    (\"binary_cols\",OneHotEncoder(drop=\"first\"),binary_attribs),#7\n",
        "    (\"cat_cols\", OneHotEncoder(), cat_attribs), #86 (81+5)\n",
        "])\n",
        "# for second attempt i opened std scaler and ran"
      ],
      "execution_count": 19,
      "outputs": []
    },
    {
      "cell_type": "code",
      "metadata": {
        "colab_type": "code",
        "id": "nJ9l-AzK5qTZ",
        "colab": {}
      },
      "source": [
        "# for second attempt i opened std scaler\n",
        "X_train = train_set.drop([\"No-show\"],axis=1).copy()\n",
        "y_train = train_set[\"No-show\"].copy()\n",
        "\n",
        "#X_valid = valid_set.drop([\"No-show\"],axis=1).copy()\n",
        "#y_valid = valid_set[\"No-show\"].copy()"
      ],
      "execution_count": 20,
      "outputs": []
    },
    {
      "cell_type": "code",
      "metadata": {
        "colab_type": "code",
        "id": "RNHyHpkZ5svO",
        "colab": {
          "base_uri": "https://localhost:8080/",
          "height": 34
        },
        "outputId": "218d6469-fae2-4620-8608-8ed44353c81c"
      },
      "source": [
        "X_train_prepared = full_pipeline.fit_transform(X_train)\n",
        "X_test_prepared = full_pipeline.transform(df_test)\n",
        "\n",
        "X_train_prepared.shape, X_test_prepared.shape# X_valid_prepared.shape"
      ],
      "execution_count": 21,
      "outputs": [
        {
          "output_type": "execute_result",
          "data": {
            "text/plain": [
              "((99490, 108), (10854, 108))"
            ]
          },
          "metadata": {
            "tags": []
          },
          "execution_count": 21
        }
      ]
    },
    {
      "cell_type": "code",
      "metadata": {
        "colab_type": "code",
        "id": "BTgPov_Pu50S",
        "colab": {
          "base_uri": "https://localhost:8080/",
          "height": 51
        },
        "outputId": "eed196f5-534d-4655-dd21-2dba0180ebd2"
      },
      "source": [
        "from sklearn.linear_model import LogisticRegression\n",
        "log_reg = LogisticRegression(random_state=0,max_iter=2000,penalty=\"l2\",C=10)\n",
        "log_reg.fit(X_train_prepared, y_train)\n",
        "\n",
        "from sklearn.model_selection import cross_val_score\n",
        "scores = cross_val_score(log_reg, X_train_prepared, y_train,scoring=\"roc_auc\", cv=10)\n",
        "print(\"roc-auc:  \",scores)\n",
        "\n",
        "#from sklearn.metrics import roc_auc_score\n",
        "#y_pred=log_reg.predict_proba(X_valid_prepared)[:,1]\n",
        "#y_true=y_valid\n",
        "\n",
        "#roc_auc_score(y_true,y_pred)"
      ],
      "execution_count": 22,
      "outputs": [
        {
          "output_type": "stream",
          "text": [
            "roc-auc:   [0.61057993 0.63145909 0.68502372 0.65239398 0.6529254  0.62835543\n",
            " 0.60677187 0.64605443 0.66686936 0.68437697]\n"
          ],
          "name": "stdout"
        }
      ]
    },
    {
      "cell_type": "markdown",
      "metadata": {
        "id": "YOevLctEGj2c",
        "colab_type": "text"
      },
      "source": [
        "## scale_pos_weight [default=1]\n",
        "Control the balance of positive and negative weights, useful for unbalanced classes. A typical value to consider Freq of Neg/ Fre of Positive instances"
      ]
    },
    {
      "cell_type": "code",
      "metadata": {
        "id": "aZ8EdK-rF4dX",
        "colab_type": "code",
        "colab": {
          "base_uri": "https://localhost:8080/",
          "height": 85
        },
        "outputId": "6c471215-c975-4405-a19f-18aed97db5a3"
      },
      "source": [
        "display(df_train[\"No-show\"].value_counts()/len(df_train))\n",
        "0.797668/0.202332"
      ],
      "execution_count": 24,
      "outputs": [
        {
          "output_type": "display_data",
          "data": {
            "text/plain": [
              "0    0.797668\n",
              "1    0.202332\n",
              "Name: No-show, dtype: float64"
            ]
          },
          "metadata": {
            "tags": []
          }
        },
        {
          "output_type": "execute_result",
          "data": {
            "text/plain": [
              "3.942371943142953"
            ]
          },
          "metadata": {
            "tags": []
          },
          "execution_count": 24
        }
      ]
    },
    {
      "cell_type": "code",
      "metadata": {
        "id": "Q_ot9zktIfC-",
        "colab_type": "code",
        "colab": {}
      },
      "source": [
        ""
      ],
      "execution_count": null,
      "outputs": []
    },
    {
      "cell_type": "code",
      "metadata": {
        "colab_type": "code",
        "id": "ENmGERwX6wnJ",
        "colab": {}
      },
      "source": [
        "xgb_clf=XGBClassifier(scale_pos_weight=4)\n",
        "\n",
        "xgb_clf.fit(X_train_prepared, y_train)\n",
        "\n",
        "from sklearn.model_selection import cross_val_score\n",
        "scores = cross_val_score(xgb_clf, X_train_prepared, y_train,scoring=\"roc_auc\", cv=10)\n",
        "print(\"roc-auc:  \",scores)\n",
        "\n",
        "#from sklearn.metrics import roc_auc_score\n",
        "#y_pred=xgb_clf.predict_proba(X_valid_prepared)[:,1]\n",
        "#y_true=y_valid\n",
        "\n",
        "#roc_auc_score(y_true,y_pred)"
      ],
      "execution_count": null,
      "outputs": []
    },
    {
      "cell_type": "code",
      "metadata": {
        "id": "ZFh6m4RsH8rD",
        "colab_type": "code",
        "colab": {}
      },
      "source": [
        "XGBClassifier()"
      ],
      "execution_count": null,
      "outputs": []
    },
    {
      "cell_type": "code",
      "metadata": {
        "id": "WX3Ld-OPS8fE",
        "colab_type": "code",
        "colab": {}
      },
      "source": [
        "def report(results, n_top=3):\n",
        "    for i in range(1, n_top + 1):\n",
        "        candidate = np.flatnonzero(results['rank_test_score'] == i)[0]\n",
        "        print(\"Model with rank: {0}\".format(i))\n",
        "        print(\"Mean validation score: {0:.5f} (std: {1:.5f})\".format(\n",
        "            results['mean_test_score'][candidate],\n",
        "            results['std_test_score'][candidate]))\n",
        "        print(\"Parameters: {0}\".format(results['params'][candidate]))\n",
        "        print(\"\")\n",
        "\n",
        "from xgboost.sklearn import XGBClassifier\n",
        "from sklearn.model_selection import GridSearchCV\n",
        "\n",
        "xgb_params = {\"n_estimators\":[100,500,1000,1500],}\n",
        "\n",
        "xgb1=XGBClassifier(subsample=0.8,colsample_bylevel=0.8,colsample_bytree=0.8)\n",
        "\n",
        "grid_search=GridSearchCV(xgb1,cv=5,param_grid=xgb_params,\n",
        "\n",
        "scoring='roc_auc',verbose=False,n_jobs=-1)\n",
        "\n",
        "grid_search.fit(X_train_prepared, y_train)\n",
        "\n",
        "report(grid_search.cv_results_,3)"
      ],
      "execution_count": null,
      "outputs": []
    },
    {
      "cell_type": "code",
      "metadata": {
        "id": "stjm7QWATSN0",
        "colab_type": "code",
        "colab": {
          "base_uri": "https://localhost:8080/",
          "height": 198
        },
        "outputId": "cc8d2247-92e7-47f8-d2e9-5cd6c7555319"
      },
      "source": [
        "xgb_params={\"gamma\":[0,2,5,8,10],\n",
        "            \"max_depth\": [2,3,4,5,6,7,8],\n",
        "            \"min_child_weight\":[0.5,1,2,5,10]\n",
        "}\n",
        "\n",
        "xgb2=XGBClassifier(n_estimators=500,subsample=0.8,\n",
        "                   colsample_bylevel=0.8,colsample_bytree=0.8)\n",
        "\n",
        "random_search=RandomizedSearchCV(xgb2,param_distributions=xgb_params,n_iter=10,\n",
        "                                 cv=5,scoring='roc_auc',\n",
        "                                 n_jobs=-1,verbose=False)\n",
        "\n",
        "random_search.fit(X_train_prepared, y_train)\n",
        "report(random_search.cv_results_,3)"
      ],
      "execution_count": 25,
      "outputs": [
        {
          "output_type": "error",
          "ename": "NameError",
          "evalue": "ignored",
          "traceback": [
            "\u001b[0;31m---------------------------------------------------------------------------\u001b[0m",
            "\u001b[0;31mNameError\u001b[0m                                 Traceback (most recent call last)",
            "\u001b[0;32m<ipython-input-25-d21f31494a28>\u001b[0m in \u001b[0;36m<module>\u001b[0;34m()\u001b[0m\n\u001b[1;32m     12\u001b[0m \u001b[0;34m\u001b[0m\u001b[0m\n\u001b[1;32m     13\u001b[0m \u001b[0mrandom_search\u001b[0m\u001b[0;34m.\u001b[0m\u001b[0mfit\u001b[0m\u001b[0;34m(\u001b[0m\u001b[0mX_train_prepared\u001b[0m\u001b[0;34m,\u001b[0m \u001b[0my_train\u001b[0m\u001b[0;34m)\u001b[0m\u001b[0;34m\u001b[0m\u001b[0;34m\u001b[0m\u001b[0m\n\u001b[0;32m---> 14\u001b[0;31m \u001b[0mreport\u001b[0m\u001b[0;34m(\u001b[0m\u001b[0mrandom_search\u001b[0m\u001b[0;34m.\u001b[0m\u001b[0mcv_results_\u001b[0m\u001b[0;34m,\u001b[0m\u001b[0;36m3\u001b[0m\u001b[0;34m)\u001b[0m\u001b[0;34m\u001b[0m\u001b[0;34m\u001b[0m\u001b[0m\n\u001b[0m",
            "\u001b[0;31mNameError\u001b[0m: name 'report' is not defined"
          ]
        }
      ]
    },
    {
      "cell_type": "code",
      "metadata": {
        "id": "kYD1XT_yQV8y",
        "colab_type": "code",
        "colab": {
          "base_uri": "https://localhost:8080/",
          "height": 221
        },
        "outputId": "c511016b-d098-4685-f521-e303644b642f"
      },
      "source": [
        "def report(results, n_top=3):\n",
        "    for i in range(1, n_top + 1):\n",
        "        candidate = np.flatnonzero(results['rank_test_score'] == i)[0]\n",
        "        print(\"Model with rank: {0}\".format(i))\n",
        "        print(\"Mean validation score: {0:.5f} (std: {1:.5f})\".format(\n",
        "            results['mean_test_score'][candidate],\n",
        "            results['std_test_score'][candidate]))\n",
        "        print(\"Parameters: {0}\".format(results['params'][candidate]))\n",
        "        print(\"\")\n",
        "report(random_search.cv_results_,3)"
      ],
      "execution_count": 26,
      "outputs": [
        {
          "output_type": "stream",
          "text": [
            "Model with rank: 1\n",
            "Mean validation score: 0.71415 (std: 0.02108)\n",
            "Parameters: {'min_child_weight': 10, 'max_depth': 8, 'gamma': 8}\n",
            "\n",
            "Model with rank: 2\n",
            "Mean validation score: 0.71359 (std: 0.02211)\n",
            "Parameters: {'min_child_weight': 1, 'max_depth': 6, 'gamma': 8}\n",
            "\n",
            "Model with rank: 3\n",
            "Mean validation score: 0.71318 (std: 0.02108)\n",
            "Parameters: {'min_child_weight': 1, 'max_depth': 5, 'gamma': 10}\n",
            "\n"
          ],
          "name": "stdout"
        }
      ]
    },
    {
      "cell_type": "code",
      "metadata": {
        "id": "G6SonymnTSUS",
        "colab_type": "code",
        "colab": {
          "base_uri": "https://localhost:8080/",
          "height": 453
        },
        "outputId": "5188fa53-b312-4819-a444-768e571ce1ce"
      },
      "source": [
        "xgb_params={\n",
        "    'max_delta_step':[0,1,3,6,10],\n",
        "    'scale_pos_weight':[1,2,3,4]\n",
        "}\n",
        "\n",
        "xgb3=XGBClassifier(n_estimators=500,min_child_weight=10,gamma=8,max_depth=8,\n",
        "                  subsample=0.8,colsample_bylevel=0.8,colsample_bytree=0.8)\n",
        "\n",
        "from sklearn.model_selection import GridSearchCV\n",
        "grid_search=GridSearchCV(xgb3,param_grid=xgb_params,\n",
        "                         cv=5,scoring='roc_auc',n_jobs=-1,verbose=False)\n",
        "grid_search.fit(X_train_prepared, y_train)\n",
        "report(grid_search.cv_results_,3)"
      ],
      "execution_count": 28,
      "outputs": [
        {
          "output_type": "stream",
          "text": [
            "Model with rank: 1\n",
            "Mean validation score: 0.71504 (std: 0.02056)\n",
            "Parameters: {'max_delta_step': 1, 'scale_pos_weight': 1}\n",
            "\n",
            "Model with rank: 2\n",
            "Mean validation score: 0.71415 (std: 0.02108)\n",
            "Parameters: {'max_delta_step': 0, 'scale_pos_weight': 1}\n",
            "\n"
          ],
          "name": "stdout"
        },
        {
          "output_type": "error",
          "ename": "IndexError",
          "evalue": "ignored",
          "traceback": [
            "\u001b[0;31m---------------------------------------------------------------------------\u001b[0m",
            "\u001b[0;31mIndexError\u001b[0m                                Traceback (most recent call last)",
            "\u001b[0;32m<ipython-input-28-6ba4d6dee151>\u001b[0m in \u001b[0;36m<module>\u001b[0;34m()\u001b[0m\n\u001b[1;32m     11\u001b[0m                          cv=5,scoring='roc_auc',n_jobs=-1,verbose=False)\n\u001b[1;32m     12\u001b[0m \u001b[0mgrid_search\u001b[0m\u001b[0;34m.\u001b[0m\u001b[0mfit\u001b[0m\u001b[0;34m(\u001b[0m\u001b[0mX_train_prepared\u001b[0m\u001b[0;34m,\u001b[0m \u001b[0my_train\u001b[0m\u001b[0;34m)\u001b[0m\u001b[0;34m\u001b[0m\u001b[0;34m\u001b[0m\u001b[0m\n\u001b[0;32m---> 13\u001b[0;31m \u001b[0mreport\u001b[0m\u001b[0;34m(\u001b[0m\u001b[0mgrid_search\u001b[0m\u001b[0;34m.\u001b[0m\u001b[0mcv_results_\u001b[0m\u001b[0;34m,\u001b[0m\u001b[0;36m3\u001b[0m\u001b[0;34m)\u001b[0m\u001b[0;34m\u001b[0m\u001b[0;34m\u001b[0m\u001b[0m\n\u001b[0m",
            "\u001b[0;32m<ipython-input-26-50366b055fca>\u001b[0m in \u001b[0;36mreport\u001b[0;34m(results, n_top)\u001b[0m\n\u001b[1;32m      1\u001b[0m \u001b[0;32mdef\u001b[0m \u001b[0mreport\u001b[0m\u001b[0;34m(\u001b[0m\u001b[0mresults\u001b[0m\u001b[0;34m,\u001b[0m \u001b[0mn_top\u001b[0m\u001b[0;34m=\u001b[0m\u001b[0;36m3\u001b[0m\u001b[0;34m)\u001b[0m\u001b[0;34m:\u001b[0m\u001b[0;34m\u001b[0m\u001b[0;34m\u001b[0m\u001b[0m\n\u001b[1;32m      2\u001b[0m     \u001b[0;32mfor\u001b[0m \u001b[0mi\u001b[0m \u001b[0;32min\u001b[0m \u001b[0mrange\u001b[0m\u001b[0;34m(\u001b[0m\u001b[0;36m1\u001b[0m\u001b[0;34m,\u001b[0m \u001b[0mn_top\u001b[0m \u001b[0;34m+\u001b[0m \u001b[0;36m1\u001b[0m\u001b[0;34m)\u001b[0m\u001b[0;34m:\u001b[0m\u001b[0;34m\u001b[0m\u001b[0;34m\u001b[0m\u001b[0m\n\u001b[0;32m----> 3\u001b[0;31m         \u001b[0mcandidate\u001b[0m \u001b[0;34m=\u001b[0m \u001b[0mnp\u001b[0m\u001b[0;34m.\u001b[0m\u001b[0mflatnonzero\u001b[0m\u001b[0;34m(\u001b[0m\u001b[0mresults\u001b[0m\u001b[0;34m[\u001b[0m\u001b[0;34m'rank_test_score'\u001b[0m\u001b[0;34m]\u001b[0m \u001b[0;34m==\u001b[0m \u001b[0mi\u001b[0m\u001b[0;34m)\u001b[0m\u001b[0;34m[\u001b[0m\u001b[0;36m0\u001b[0m\u001b[0;34m]\u001b[0m\u001b[0;34m\u001b[0m\u001b[0;34m\u001b[0m\u001b[0m\n\u001b[0m\u001b[1;32m      4\u001b[0m         \u001b[0mprint\u001b[0m\u001b[0;34m(\u001b[0m\u001b[0;34m\"Model with rank: {0}\"\u001b[0m\u001b[0;34m.\u001b[0m\u001b[0mformat\u001b[0m\u001b[0;34m(\u001b[0m\u001b[0mi\u001b[0m\u001b[0;34m)\u001b[0m\u001b[0;34m)\u001b[0m\u001b[0;34m\u001b[0m\u001b[0;34m\u001b[0m\u001b[0m\n\u001b[1;32m      5\u001b[0m         print(\"Mean validation score: {0:.5f} (std: {1:.5f})\".format(\n",
            "\u001b[0;31mIndexError\u001b[0m: index 0 is out of bounds for axis 0 with size 0"
          ]
        }
      ]
    },
    {
      "cell_type": "code",
      "metadata": {
        "id": "n6F0a-4gTSYo",
        "colab_type": "code",
        "colab": {
          "base_uri": "https://localhost:8080/",
          "height": 51
        },
        "outputId": "10772cc1-7e93-4d71-8599-cebf2154851a"
      },
      "source": [
        "final_xgb=XGBClassifier(n_estimators=500,min_child_weight=10,gamma=8,max_depth=8, scale_pos_weight=1,max_delta_step=1)\n",
        "final_xgb.fit(X_train_prepared, y_train)\n",
        "\n",
        "from sklearn.model_selection import cross_val_score\n",
        "scores = cross_val_score(final_xgb, X_train_prepared, y_train,scoring=\"roc_auc\", cv=10)\n",
        "print(\"roc-auc:  \",scores)"
      ],
      "execution_count": 29,
      "outputs": [
        {
          "output_type": "stream",
          "text": [
            "roc-auc:   [0.69148522 0.68927156 0.74825197 0.71305992 0.71855626 0.70324638\n",
            " 0.63557864 0.71876881 0.74262612 0.7468693 ]\n"
          ],
          "name": "stdout"
        }
      ]
    },
    {
      "cell_type": "code",
      "metadata": {
        "id": "9hvGonQpTSRc",
        "colab_type": "code",
        "colab": {}
      },
      "source": [
        ""
      ],
      "execution_count": null,
      "outputs": []
    },
    {
      "cell_type": "markdown",
      "metadata": {
        "colab_type": "text",
        "id": "PKPloDfdxkh6"
      },
      "source": [
        "## Predictions"
      ]
    },
    {
      "cell_type": "code",
      "metadata": {
        "colab_type": "code",
        "id": "mVSMngx_4kxI",
        "colab": {}
      },
      "source": [
        "y_test_pred=final_xgb.predict_proba(X_test_prepared)[:,1]\n",
        "\n",
        "mysubmission=pd.DataFrame(y_test_pred,columns=[\"No-show\"])\n",
        "pd.DataFrame(mysubmission).to_csv(\"Submi_P6_EdvPy_KSV_Xgb_S05.csv\",index=False)"
      ],
      "execution_count": 30,
      "outputs": []
    },
    {
      "cell_type": "code",
      "metadata": {
        "id": "a_crXR0NBSeG",
        "colab_type": "code",
        "colab": {
          "base_uri": "https://localhost:8080/",
          "height": 17
        },
        "outputId": "ff11da6f-dc09-4c20-975a-e976082bc83a"
      },
      "source": [
        "from google.colab import files\n",
        "files.download(\"Submi_P6_EdvPy_KSV_Xgb_S05.csv\")"
      ],
      "execution_count": 31,
      "outputs": [
        {
          "output_type": "display_data",
          "data": {
            "application/javascript": [
              "\n",
              "    async function download(id, filename, size) {\n",
              "      if (!google.colab.kernel.accessAllowed) {\n",
              "        return;\n",
              "      }\n",
              "      const div = document.createElement('div');\n",
              "      const label = document.createElement('label');\n",
              "      label.textContent = `Downloading \"${filename}\": `;\n",
              "      div.appendChild(label);\n",
              "      const progress = document.createElement('progress');\n",
              "      progress.max = size;\n",
              "      div.appendChild(progress);\n",
              "      document.body.appendChild(div);\n",
              "\n",
              "      const buffers = [];\n",
              "      let downloaded = 0;\n",
              "\n",
              "      const channel = await google.colab.kernel.comms.open(id);\n",
              "      // Send a message to notify the kernel that we're ready.\n",
              "      channel.send({})\n",
              "\n",
              "      for await (const message of channel.messages) {\n",
              "        // Send a message to notify the kernel that we're ready.\n",
              "        channel.send({})\n",
              "        if (message.buffers) {\n",
              "          for (const buffer of message.buffers) {\n",
              "            buffers.push(buffer);\n",
              "            downloaded += buffer.byteLength;\n",
              "            progress.value = downloaded;\n",
              "          }\n",
              "        }\n",
              "      }\n",
              "      const blob = new Blob(buffers, {type: 'application/binary'});\n",
              "      const a = document.createElement('a');\n",
              "      a.href = window.URL.createObjectURL(blob);\n",
              "      a.download = filename;\n",
              "      div.appendChild(a);\n",
              "      a.click();\n",
              "      div.remove();\n",
              "    }\n",
              "  "
            ],
            "text/plain": [
              "<IPython.core.display.Javascript object>"
            ]
          },
          "metadata": {
            "tags": []
          }
        },
        {
          "output_type": "display_data",
          "data": {
            "application/javascript": [
              "download(\"download_fc455e73-a88b-4f83-8f78-57966c3e1684\", \"Submi_P6_EdvPy_KSV_Xgb_S05.csv\", 118579)"
            ],
            "text/plain": [
              "<IPython.core.display.Javascript object>"
            ]
          },
          "metadata": {
            "tags": []
          }
        }
      ]
    },
    {
      "cell_type": "code",
      "metadata": {
        "id": "bKe7X3Ucs_WT",
        "colab_type": "code",
        "colab": {}
      },
      "source": [
        ""
      ],
      "execution_count": null,
      "outputs": []
    }
  ]
}